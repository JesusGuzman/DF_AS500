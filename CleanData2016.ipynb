{
 "cells": [
  {
   "cell_type": "code",
   "execution_count": 1,
   "metadata": {},
   "outputs": [],
   "source": [
    "import pandas as pd\n",
    "from os import listdir\n",
    "from datetime import datetime, timedelta"
   ]
  },
  {
   "cell_type": "code",
   "execution_count": 2,
   "metadata": {},
   "outputs": [],
   "source": [
    "def parse_time(x):\n",
    "    datetime_object = datetime.strptime(x,'%H:%M:%S')\n",
    "    return datetime_object \n",
    "\n",
    "#obtener el nombre de los archivos\n",
    "def ls(pwd): \n",
    "    return listdir(pwd)\n",
    "        \n",
    "def limpiar_datos(tickers):\n",
    "    first = []\n",
    "    for ticker in tickers:\n",
    "        file = pd.read_csv('./emisoras/2015/'+ticker)\n",
    "        df = pd.DataFrame(file)\n",
    "        date = df[df.columns[1]]\n",
    "        new_df = df[(date>='09:30:00')&(date<'16:01:00')]\n",
    "        hour = '09:30:00'\n",
    "        flag = False\n",
    "                    \n",
    "        nf = pd.DataFrame(columns=['Date', 'Timestamp',     'Ticker',     'OpenPrice',\n",
    "                                   'HighPrice',     'LowPrice',      'ClosePrice', 'TotalVolume', \n",
    "                                   'TotalQuantity', 'TotalTradeCount'])\n",
    "        index = 0\n",
    "        for row in new_df.itertuples(index=True):\n",
    "            if (row.Timestamp >= hour) &  (row.Timestamp<='16:00:00'):\n",
    "                if (row.Timestamp > '15:30:00'):\n",
    "                   continue\n",
    "                else:\n",
    "                   lista = [row.Date, hour, row.Ticker,\n",
    "                           row.OpenPrice, row.HighPrice, row.LowPrice, row.ClosePrice,\n",
    "                           row.TotalVolume, row.TotalQuantity, row.TotalTradeCount]\n",
    "                   nf.loc[index] = lista\n",
    "                   index = index +1 \n",
    "                if hour >= '15:30:00':\n",
    "                    hour = '09:30:00'\n",
    "                else:\n",
    "                    hour = (parse_time(hour) + timedelta(minutes=60)).strftime('%H:%M:%S') \n",
    "        nf.to_csv('./emisoras/2015-hora/'+ticker, encoding='utf-8', index=False)"
   ]
  },
  {
   "cell_type": "code",
   "execution_count": 3,
   "metadata": {},
   "outputs": [],
   "source": [
    "tickers =  ls('./emisoras/2015/') #Limpiamos los datos en el tiempo de la bolsa\n",
    "limpiar_datos(tickers)"
   ]
  },
  {
   "cell_type": "code",
   "execution_count": null,
   "metadata": {},
   "outputs": [],
   "source": []
  }
 ],
 "metadata": {
  "kernelspec": {
   "display_name": "Python 3",
   "language": "python",
   "name": "python3"
  },
  "language_info": {
   "codemirror_mode": {
    "name": "ipython",
    "version": 3
   },
   "file_extension": ".py",
   "mimetype": "text/x-python",
   "name": "python",
   "nbconvert_exporter": "python",
   "pygments_lexer": "ipython3",
   "version": "3.6.3"
  }
 },
 "nbformat": 4,
 "nbformat_minor": 2
}
