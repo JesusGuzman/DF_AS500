{
 "cells": [
  {
   "cell_type": "code",
   "execution_count": 1,
   "metadata": {},
   "outputs": [],
   "source": [
    "import pandas as pd\n",
    "from os import listdir\n",
    "\n",
    "#obtener los nombres de los tickers\n",
    "def get_tickers(df):\n",
    "    df_tickers = df[df.columns[2]]\n",
    "    tickers = pd.unique(pd.Series(df_tickers))\n",
    "    return tickers\n",
    "\n",
    "#crear los distintos CSV’s por ticker\n",
    "def create_csv_ticker(df, tickers):\n",
    "    df_tickers = df[df.columns[2]]\n",
    "    for ticker in tickers:\n",
    "        new_df = df[df_tickers == ticker].sort_values(by=['Date','Timestamp'], ascending=True)\n",
    "        new_df.to_csv(\"./emisoras/2014/\" +ticker.replace('/','-')+'.csv', encoding='utf-8', index=False)\n",
    "\n",
    "#obtener el nombre de los archivos\n",
    "def ls(pwd):\n",
    "    return listdir(pwd)\n",
    "\n",
    "#############CREACION CSV POR AÑO########################\n",
    "#csvs = ls('./2018') #Obtenemos todos los archivos que hay en año\n",
    "#csv = pd.concat( [ pd.read_csv(\"./2018/\"+csv) for csv in csvs] ) #Concatenamos todos los archivos en un DF\n",
    "#csv.to_csv( \"2014.csv\", index=False ) #Guardamos el DF en un csv con todos los datos del año\n",
    "\n",
    "#############CREACION DE CSV’s POR EMISORA############## \n",
    "#file = pd.read_csv('2014.csv') #indicamos el CSV que vamos a particionar\n",
    "#df = pd.DataFrame(file) #creamos el DF con ese CSV\n",
    "#tickers = get_tickers(df) #Obtenemos una lista de las emisoras que se encuentran en el DF\n",
    "#create_csv_ticker(df,tickers) #Apartir de la lista de emisoras se crean los distintos CSV’s +500"
   ]
  },
  {
   "cell_type": "code",
   "execution_count": null,
   "metadata": {},
   "outputs": [],
   "source": []
  }
 ],
 "metadata": {
  "kernelspec": {
   "display_name": "Python 3",
   "language": "python",
   "name": "python3"
  },
  "language_info": {
   "codemirror_mode": {
    "name": "ipython",
    "version": 3
   },
   "file_extension": ".py",
   "mimetype": "text/x-python",
   "name": "python",
   "nbconvert_exporter": "python",
   "pygments_lexer": "ipython3",
   "version": "3.6.3"
  }
 },
 "nbformat": 4,
 "nbformat_minor": 2
}
