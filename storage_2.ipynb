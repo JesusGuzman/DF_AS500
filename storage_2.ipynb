{
 "cells": [
  {
   "cell_type": "code",
   "execution_count": 1,
   "metadata": {},
   "outputs": [],
   "source": [
    "from google.cloud import storage\n",
    "from Quandl_SP500_por_emisoras import *\n",
    "#storage_client = storage.Client.from_service_account_json('./multiplicaquant.json')\n",
    "#buckets = list(storage_client.list_buckets())\n",
    "#print(buckets)"
   ]
  },
  {
   "cell_type": "code",
   "execution_count": 2,
   "metadata": {},
   "outputs": [
    {
     "data": {
      "text/plain": [
       "['AEP.csv',\n",
       " 'NTRS.csv',\n",
       " 'RTN.csv',\n",
       " 'HCBK.csv',\n",
       " 'PDCO.csv',\n",
       " 'MAC.csv',\n",
       " 'DOW.csv',\n",
       " 'WFM.csv',\n",
       " 'R.csv',\n",
       " 'IFF.csv']"
      ]
     },
     "execution_count": 2,
     "metadata": {},
     "output_type": "execute_result"
    }
   ],
   "source": [
    "files = ls('./emisoras/All-Complete-Ticker-Data/')\n",
    "files"
   ]
  },
  {
   "cell_type": "code",
   "execution_count": 11,
   "metadata": {},
   "outputs": [],
   "source": [
    "def upload_files(files):\n",
    "    storage_client = storage.Client.from_service_account_json('./multiplicaquant.json')\n",
    "    bucket = storage_client.get_bucket('trend_data')\n",
    "    for ticker in files:\n",
    "        blob = bucket.blob('/2014/'+ticker)\n",
    "        blob.upload_from_filename('./emisoras/All-Complete-Ticker-Data/'+ticker)\n",
    "    "
   ]
  },
  {
   "cell_type": "code",
   "execution_count": 12,
   "metadata": {},
   "outputs": [],
   "source": [
    "upload_files(files)"
   ]
  },
  {
   "cell_type": "code",
   "execution_count": 8,
   "metadata": {},
   "outputs": [],
   "source": [
    "#Subir archivos\n",
    "#storage_client = storage.Client.from_service_account_json('./multiplicaquant.json')\n",
    "#bucket = storage_client.get_bucket('trend_data')\n",
    "#blob = bucket.blob('2014/csvtest')\n",
    "#blob.upload_from_filename('./emisoras/All-Complete-Ticker-Data/MAC.csv')"
   ]
  },
  {
   "cell_type": "code",
   "execution_count": 5,
   "metadata": {},
   "outputs": [],
   "source": [
    "def create_bucket(bucket_name):\n",
    "    \"\"\"Creates a new bucket.\"\"\"\n",
    "    storage_client = storage.Client.from_service_account_json('./multiplicaquant.json')\n",
    "    bucket = storage_client.create_bucket(bucket_name)\n",
    "    print('Bucket {} created'.format(bucket.name))"
   ]
  },
  {
   "cell_type": "code",
   "execution_count": 6,
   "metadata": {
    "scrolled": true
   },
   "outputs": [],
   "source": [
    "#create_bucket(\"new_test\")"
   ]
  },
  {
   "cell_type": "code",
   "execution_count": 7,
   "metadata": {},
   "outputs": [],
   "source": [
    "def download_blob(bucket_name, source_blob_name, destination_file_name):\n",
    "    \"\"\"Downloads a blob from the bucket.\"\"\"\n",
    "    storage_client = storage.Client.from_service_account_json('./multiplicaquant.json')\n",
    "    bucket = storage_client.get_bucket(bucket_name)\n",
    "    blob = bucket.blob(source_blob_name)\n",
    "\n",
    "    blob.download_to_filename(destination_file_name)\n",
    "\n",
    "    print('Blob {} downloaded to {}.'.format(\n",
    "        source_blob_name,\n",
    "        destination_file_name))\n",
    "\n",
    "#download_blob('trend_data', 'myfile', 'midocumento')"
   ]
  },
  {
   "cell_type": "code",
   "execution_count": null,
   "metadata": {},
   "outputs": [],
   "source": []
  },
  {
   "cell_type": "code",
   "execution_count": null,
   "metadata": {},
   "outputs": [],
   "source": []
  }
 ],
 "metadata": {
  "kernelspec": {
   "display_name": "Python 3",
   "language": "python",
   "name": "python3"
  },
  "language_info": {
   "codemirror_mode": {
    "name": "ipython",
    "version": 3
   },
   "file_extension": ".py",
   "mimetype": "text/x-python",
   "name": "python",
   "nbconvert_exporter": "python",
   "pygments_lexer": "ipython3",
   "version": "3.6.3"
  }
 },
 "nbformat": 4,
 "nbformat_minor": 2
}
