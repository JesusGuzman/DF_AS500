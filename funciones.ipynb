{
 "cells": [
  {
   "cell_type": "code",
   "execution_count": null,
   "metadata": {},
   "outputs": [],
   "source": [
    "import pandas as pd\n",
    "from datetime import datetime"
   ]
  },
  {
   "cell_type": "code",
   "execution_count": null,
   "metadata": {},
   "outputs": [],
   "source": [
    "file = pd.read_csv('AS-SP500.csv')\n",
    "df = pd.DataFrame(file)"
   ]
  },
  {
   "cell_type": "code",
   "execution_count": null,
   "metadata": {},
   "outputs": [],
   "source": [
    "#obtener los nombres de los tickers\n",
    "def get_tickers(df):\n",
    "  df_tickers = df[df.columns[2]]\n",
    "  tickers = pd.unique(pd.Series(df_tickers))\n",
    "  return tickers\n",
    "\n",
    "#crear los distintos CSV's por ticker\n",
    "def create_csv_ticker(df, tickers):\n",
    "  df_tickers = df[df.columns[2]]\n",
    "  for ticker in tickers:\n",
    "    new_df = df[df_tickers == ticker]\n",
    "    new_df.to_csv(ticker+'.csv', encoding='utf-8', index=False)\n",
    "\n",
    "#Parsear String a timestamp\n",
    "def parse_time(x):\n",
    "    datetime_object = datetime.strptime(x,'%H:%M:%S')\n",
    "    return datetime_object \n",
    "\n",
    "#Obtener los indices y el numero de columnas faltantes\n",
    "def get_index(df):\n",
    "  news_rows = []\n",
    "  for row in df.itertuples(index=True):\n",
    "    index = row.Index\n",
    "    date_1 = parse_time(df['timestamp'][index])\n",
    "    if index < (len(df)-1):\n",
    "      date_2 =  parse_time( df['timestamp'][index+1])\n",
    "    else:\n",
    "      date_2 =  parse_time( df['timestamp'][index])\n",
    "    minutes = ((date_2 - date_1).seconds)/60\n",
    "    if minutes > 1:\n",
    "      news_rows.append({'index': index, 'num': minutes-1})\n",
    "  return news_rows\n",
    "\n",
    "#Funcion que agrega las filas faltante y crea un nuevo DF\n",
    "def create_df(df, news_rows):\n",
    "  indexs = []\n",
    "  num_rows = []\n",
    "  for key in news_rows:\n",
    "    indexs.append(key['index'])\n",
    "    num_rows.append(key['num'])\n",
    "\n",
    "  nf = pd.DataFrame(columns=['date', 'timestamp', 'ticker', 'open',\n",
    "                             'high', 'low', 'close', 'volume', \n",
    "                             'quantity', 'tradecount'])\n",
    "  index = 0\n",
    "  for row in df.itertuples(index=True):\n",
    "    lista= [row.date, row.timestamp, row.ticker,\n",
    "            row.open, row.high, row.low, row.close,\n",
    "            row.volume, row.quantity, row.tradecount]\n",
    "    \n",
    "    nf.loc[index] = lista\n",
    "    \n",
    "    if row.Index in indexs:\n",
    "        index_array = indexs.index(row.Index)\n",
    "        index = index + 1\n",
    "        \n",
    "        key = 0\n",
    "        while key < num_rows[index_array]:\n",
    "          nf.loc[index] = lista\n",
    "          key = key + 1\n",
    "          index = index + 1\n",
    "            \n",
    "    index = index + 1\n",
    "  nf.to_csv('new1.csv', encoding='utf-8', index=False)\n",
    "  return nf"
   ]
  }
 ],
 "metadata": {
  "kernelspec": {
   "display_name": "Python 2",
   "language": "python",
   "name": "python2"
  },
  "language_info": {
   "codemirror_mode": {
    "name": "ipython",
    "version": 2
   },
   "file_extension": ".py",
   "mimetype": "text/x-python",
   "name": "python",
   "nbconvert_exporter": "python",
   "pygments_lexer": "ipython2",
   "version": "2.7.14"
  }
 },
 "nbformat": 4,
 "nbformat_minor": 2
}
