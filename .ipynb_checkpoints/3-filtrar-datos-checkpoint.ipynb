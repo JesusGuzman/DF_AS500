{
 "cells": [
  {
   "cell_type": "code",
   "execution_count": 1,
   "metadata": {},
   "outputs": [],
   "source": [
    "import pandas as pd\n",
    "import numpy as np\n",
    "from datetime import datetime\n",
    "from os import listdir"
   ]
  },
  {
   "cell_type": "code",
   "execution_count": 2,
   "metadata": {},
   "outputs": [],
   "source": [
    "def df_sharpe_ratio(df):    \n",
    "    daily_rf = 1.1**(1./252) - 1 # daily risk free rate\n",
    "    K = 252**(0.5) # adjustment factor for daily samplying\n",
    "    Xcopy = df.copy() #make a copy\n",
    "    #calculate daily returns\n",
    "    X_daily_rets = (Xcopy / Xcopy.shift(1)) - 1\n",
    "    X_daily_rets = X_daily_rets[1:] # exclude the first row\n",
    "    #Calculate the sharpe ratio. I use this epislon value to avoid NaN results\n",
    "    epsi = 1e-16\n",
    "    temp = X_daily_rets.copy() - daily_rf \n",
    "    sharpe_ratio = temp.mean() / (X_daily_rets.std() + epsi)\n",
    "    sharpe_ratio = K * sharpe_ratio #multiply by an adjustment factor to get the annualized version\n",
    "    threshold = 1\n",
    "    #sharpe_ratio[sharpe_ratio < threshold] = 0\n",
    "    #sharpe_ratio[sharpe_ratio >= threshold] = 1\n",
    "    one_sharpe_ratio = sharpe_ratio[sharpe_ratio >= threshold]\n",
    "\n",
    "    return one_sharpe_ratio\n",
    "    #X_daily_rets\n",
    "    \n",
    "def change_period(new_time, df):\n",
    "    tam = new_time\n",
    "    i=0\n",
    "    stocks = []\n",
    "    first = 0\n",
    "    while i < (len(df)/tam):\n",
    "        nf = df[first:new_time]\n",
    "        stock = { 'date':   nf[nf.columns[1]][first],     'timestamp': nf[nf.columns[2]][first],\n",
    "                  'ticker': nf[nf.columns[3]][first],     'open': nf[nf.columns[4]][first], \n",
    "                  'high': nf[nf.columns[5]].max(),        'low': nf[nf.columns[6]].min(),\n",
    "                  'close': nf[nf.columns[7]][new_time-1], 'volume': nf[nf.columns[8]].sum(),\n",
    "                  'quantity': nf[nf.columns[9]].sum(),    'tradecount': nf[nf.columns[10]].sum() }\n",
    "        stocks.append(stock)\n",
    "    \n",
    "        first = first + tam\n",
    "        new_time = new_time + tam\n",
    "        i = i + 1\n",
    "    \n",
    "    if (len(df)%tam) != 0:\n",
    "        first = len(df)-(len(df)%tam)\n",
    "        new_time = len(df)\n",
    "        nf = df[first:new_time]\n",
    "        stock = { 'date':   nf[nf.columns[1]][first],     'timestamp': nf[nf.columns[2]][first],\n",
    "                  'ticker': nf[nf.columns[3]][first],     'open': nf[nf.columns[4]][first], \n",
    "                  'high': nf[nf.columns[5]].max(),        'low': nf[nf.columns[6]].min(),\n",
    "                  'close': nf[nf.columns[7]][new_time-1], 'volume': nf[nf.columns[8]].sum(),\n",
    "                  'quantity': nf[nf.columns[9]].sum(),    'tradecount': nf[nf.columns[10]].sum() }\n",
    "        stocks.append(stock)\n",
    "    df_stocks = pd.DataFrame(stocks,columns=['date',     'timestamp', 'ticker', 'open',\n",
    "                                             'high',     'low',       'close',  'volume', \n",
    "                                             'quantity', 'tradecount'])\n",
    "    #df_stocks.columns()\n",
    "    return df_stocks\n",
    "\n",
    "def csv_to_df(ticker):\n",
    "    file = pd.read_csv('./emisoras/2018-limpio-1/'+ticker)\n",
    "    df = pd.DataFrame(file)\n",
    "    return df\n",
    "\n",
    "def limit_df(first, last, df):\n",
    "    date = df[df.columns[0]]\n",
    "    df = df[(date>=first_date)&(date<=last_date)]\n",
    "    return df.reset_index()\n",
    "\n",
    "def create_df_returns(first_date, last_date, ticker_list, period):\n",
    "    nf = pd.DataFrame() #df vacio\n",
    "    df = csv_to_df(ticker_list[0]) #obtenemos el df apartir del csv\n",
    "    df = limit_df(first_date, last_date, df) #funcion que obtiene un nuevo df apartir de dos fechas y un df\n",
    "    df = change_period(period, df)\n",
    "    nf['Date'] = df[df.columns[0]]\n",
    "    for ticker in ticker_list:\n",
    "      df = csv_to_df(ticker)\n",
    "      df = limit_df(first_date, last_date, df)\n",
    "      df = change_period(period, df)\n",
    "      nf[ticker] = df[df.columns[6]]\n",
    "    return nf.reset_index()\n",
    "\n",
    "def create_df_returns_heder_list(first_date, last_date, header_list, period, ticker):\n",
    "    nf = pd.DataFrame() #df vacio\n",
    "    df = csv_to_df(ticker)\n",
    "    df = limit_df(first_date, last_date, df) #funcion que obtiene un nuevo df apartir de dos fechas y un df\n",
    "    df = change_period(period, df)\n",
    "    nf['Timestamp'] = df[df.columns[1]]\n",
    "    for ticker in ticker_list:\n",
    "      df = csv_to_df(ticker)\n",
    "      df = limit_df(first_date, last_date, df)\n",
    "      df = change_period(period, df)\n",
    "      nf[ticker] = df[df.columns[6]]\n",
    "    return nf.reset_index()\n",
    "\n",
    "#obtener el nombre de los archivos\n",
    "def ls(pwd): \n",
    "    return listdir(pwd)"
   ]
  },
  {
   "cell_type": "code",
   "execution_count": null,
   "metadata": {},
   "outputs": [
    {
     "name": "stdout",
     "output_type": "stream",
     "text": [
      "       date timestamp ticker   open   high    low  close     volume  quantity  \\\n",
      "0  20180102  09:32:00    LNC  77.99  78.18  77.92  78.18  310566.32      3979   \n",
      "1  20180102  09:32:00    LNC  77.99  78.18  77.92  78.18  310566.32      3979   \n",
      "2  20180102  09:34:00    LNC  77.85  77.85  77.81  77.81   31132.00       400   \n",
      "3  20180102  09:35:00    LNC  77.92  77.98  77.33  77.33  922578.00     11873   \n",
      "4  20180102  09:36:00    LNC  77.52  77.62  77.50  77.62  187845.24      2423   \n",
      "\n",
      "   tradecount  \n",
      "0          24  \n",
      "1          24  \n",
      "2           2  \n",
      "3          83  \n",
      "4          16  \n"
     ]
    }
   ],
   "source": [
    "#En esta parte del codigo se cambia el rango de fechas y el periodo\n",
    "ticker_list = ls('./emisoras/2018-limpio-1/')\n",
    "first_date = 20180102\n",
    "last_date = 20280501\n",
    "period = 1\n",
    "close_df = create_df_returns(first_date, last_date, ticker_list, period)\n",
    "close_df"
   ]
  },
  {
   "cell_type": "code",
   "execution_count": null,
   "metadata": {},
   "outputs": [],
   "source": [
    "#cl = close_df[close_df.columns[2:4]]"
   ]
  },
  {
   "cell_type": "code",
   "execution_count": null,
   "metadata": {},
   "outputs": [],
   "source": [
    "#mat =np.log(cl/cl.shift(1))"
   ]
  },
  {
   "cell_type": "code",
   "execution_count": null,
   "metadata": {},
   "outputs": [],
   "source": [
    "#pd.DataFrame(np.cov(mat[1:]))"
   ]
  },
  {
   "cell_type": "code",
   "execution_count": null,
   "metadata": {},
   "outputs": [],
   "source": []
  }
 ],
 "metadata": {
  "kernelspec": {
   "display_name": "Python 2",
   "language": "python",
   "name": "python2"
  },
  "language_info": {
   "codemirror_mode": {
    "name": "ipython",
    "version": 2
   },
   "file_extension": ".py",
   "mimetype": "text/x-python",
   "name": "python",
   "nbconvert_exporter": "python",
   "pygments_lexer": "ipython2",
   "version": "2.7.14"
  }
 },
 "nbformat": 4,
 "nbformat_minor": 2
}
