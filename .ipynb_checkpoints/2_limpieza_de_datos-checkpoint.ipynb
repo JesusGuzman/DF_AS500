{
 "cells": [
  {
   "cell_type": "code",
   "execution_count": 1,
   "metadata": {},
   "outputs": [],
   "source": [
    "import pandas as pd\n",
    "from os import listdir\n",
    "from datetime import datetime, timedelta"
   ]
  },
  {
   "cell_type": "code",
   "execution_count": 2,
   "metadata": {},
   "outputs": [],
   "source": [
    "#Parsear String a timestamp\n",
    "def parse_time(x):\n",
    "    datetime_object = datetime.strptime(x,'%H:%M:%S')\n",
    "    return datetime_object \n",
    "\n",
    "#Obtener los indices y el numero de columnas faltantes\n",
    "def get_index(df):\n",
    "  news_rows = []\n",
    "  for row in df.itertuples(index=True):\n",
    "    index = row.Index\n",
    "    date_1 = parse_time(df['Timestamp'][index])\n",
    "    if index < (len(df)-1):\n",
    "      date_2 =  parse_time( df['Timestamp'][index+1])\n",
    "    else:\n",
    "      date_2 =  parse_time( df['Timestamp'][index])\n",
    "    minutes = ((date_2 - date_1).seconds)/60\n",
    "    if minutes > 1:\n",
    "      news_rows.append({'index': index, 'num': minutes-1})\n",
    "  return news_rows\n",
    "\n",
    "#obtener el nombre de los archivos\n",
    "def ls(pwd): \n",
    "    return listdir(pwd)\n",
    "\n",
    "#Funcion que agrega las filas faltante y crea un nuevo DF\n",
    "def create_df(df, news_rows):\n",
    "  indexs = []\n",
    "  num_rows = []\n",
    "  for key in news_rows:\n",
    "    if key['num'] < 1050:\n",
    "      indexs.append(key['index'])\n",
    "      num_rows.append(key['num'])\n",
    "    else:\n",
    "        continue\n",
    "\n",
    "  nf = pd.DataFrame(columns=['Date', 'Timestamp', 'Ticker', 'OpenPrice',\n",
    "                             'HighPrice', 'LowPrice', 'ClosePrice', 'TotalVolume', \n",
    "                             'TotalQuantity', 'TotalTradeCount'])\n",
    "  index = 0\n",
    "  for row in df.itertuples(index=True):\n",
    "    lista= [row.Date, row.Timestamp, row.Ticker,\n",
    "            row.OpenPrice, row.HighPrice, row.LowPrice, row.ClosePrice,\n",
    "            row.TotalVolume, row.TotalQuantity, row.TotalTradeCount]\n",
    "    \n",
    "    nf.loc[index] = lista\n",
    "    \n",
    "    if row.Index in indexs:\n",
    "        index_array = indexs.index(row.Index)\n",
    "        index = index + 1\n",
    "        \n",
    "        key = 0\n",
    "        while key < num_rows[index_array]:\n",
    "          nf.loc[index] = [row.Date, (parse_time(row.Timestamp) + timedelta(minutes=key+1)).strftime('%H:%M:%S'),\n",
    "                         row.Ticker,\n",
    "                            row.OpenPrice, row.HighPrice, row.LowPrice, row.ClosePrice,\n",
    "                           0,0,0]\n",
    "          key = key + 1\n",
    "          index = index + 1\n",
    "            \n",
    "    index = index + 1\n",
    "  #nf.to_csv('2018-complete.csv', encoding='utf-8', index=False)\n",
    "  return nf\n",
    "\n",
    "#ef limpiar_datos(tickers):\n",
    "#   for ticker in tickers:\n",
    "#       file = pd.read_csv('./emisoras/2018/'+ticker)\n",
    "#       df = pd.DataFrame(file)\n",
    "#       date = df[df.columns[1]]\n",
    "#       new_df = df[(date>'09:30:00')&(date<'16:01:00')]\n",
    "        #new_df.to_csv('./emisoras/2018-limpio/'+ticker, encoding='utf-8', index=False)\n",
    "\n",
    "def completar_datos(tickers):\n",
    "    for ticker in tickers:\n",
    "        file = pd.read_csv('./emisoras/2018-limpio/'+ticker)\n",
    "        df = pd.DataFrame(file)    \n",
    "        index = get_index(df)\n",
    "        new_df = create_df(df, index)\n",
    "        new_df.to_csv('./emisoras/2018-limpio-1/'+ticker, encoding='utf-8', index=False)"
   ]
  },
  {
   "cell_type": "code",
   "execution_count": 3,
   "metadata": {},
   "outputs": [],
   "source": [
    "def limpiar_datos(tickers):\n",
    "    first = []\n",
    "    for ticker in tickers:\n",
    "        file = pd.read_csv('./emisoras/2018/'+ticker)\n",
    "        df = pd.DataFrame(file)\n",
    "        date = df[df.columns[1]]\n",
    "        new_df = df[(date>='09:30:00')&(date<'16:01:00')]\n",
    "        new_df.to_csv('./emisoras/2018-limpio/'+ticker, encoding='utf-8', index=False)\n",
    "        \n",
    "        file = pd.read_csv('./emisoras/2018-limpio/'+ticker)\n",
    "        df_clean = pd.DataFrame(file)\n",
    "        nf = df_clean[0:1]\n",
    "        if nf['Timestamp'][0] == '09:30:00':\n",
    "            continue\n",
    "        else:\n",
    "            \n",
    "            stock = { 'Date':   nf[nf.columns[0]][0],          'Timestamp': '09:30:00',\n",
    "                  'Ticker': nf[nf.columns[2]][0],          'OpenPrice': nf[nf.columns[3]][0], \n",
    "                  'HighPrice': nf[nf.columns[4]][0],        'LowPrice': nf[nf.columns[5]].min(),\n",
    "                  'ClosePrice': nf[nf.columns[6]][0], 'TotalVolume': 0,\n",
    "                  'TotalQuantity': 0,    'TotalTradeCount': 0 }\n",
    "        \n",
    "            df_stocks = pd.DataFrame([stock],columns=['Date',          'Timestamp',     'Ticker',     'OpenPrice',\n",
    "                                             'HighPrice',     'LowPrice',      'ClosePrice', 'TotalVolume', \n",
    "                                             'TotalQuantity', 'TotalTradeCount'])\n",
    "        \n",
    "        \n",
    "            nf_final = df_stocks.append(new_df,ignore_index=True)\n",
    "    \n",
    "        #oc = new_df[0:1]['Timestamp'].values[0]\n",
    "        #print (oc == \"09:30:00\")\n",
    "        \n",
    "            nf_final.to_csv('./emisoras/2018-limpio/'+ticker, encoding='utf-8', index=False)"
   ]
  },
  {
   "cell_type": "code",
   "execution_count": 4,
   "metadata": {},
   "outputs": [],
   "source": [
    "#tickers =  ls('./emisoras/2018/') #Limpiamos los datos en el tiempo de la bolsa\n",
    "tickers = ['BHR.csv']\n",
    "limpiar_datos(tickers)"
   ]
  },
  {
   "cell_type": "code",
   "execution_count": 5,
   "metadata": {},
   "outputs": [],
   "source": [
    "#tickers_2 = ls('./emisoras/2018-limpio/')\n",
    "completar_datos(tickers)"
   ]
  },
  {
   "cell_type": "code",
   "execution_count": 6,
   "metadata": {},
   "outputs": [],
   "source": [
    "\n",
    "oc = (parse_time('09:31:00') + timedelta(minutes=1)).strftime('%H:%M:%S')"
   ]
  },
  {
   "cell_type": "code",
   "execution_count": 7,
   "metadata": {},
   "outputs": [
    {
     "data": {
      "text/plain": [
       "'09:32:00'"
      ]
     },
     "execution_count": 7,
     "metadata": {},
     "output_type": "execute_result"
    }
   ],
   "source": [
    "oc"
   ]
  },
  {
   "cell_type": "code",
   "execution_count": null,
   "metadata": {},
   "outputs": [],
   "source": []
  }
 ],
 "metadata": {
  "kernelspec": {
   "display_name": "Python 3",
   "language": "python",
   "name": "python3"
  },
  "language_info": {
   "codemirror_mode": {
    "name": "ipython",
    "version": 3
   },
   "file_extension": ".py",
   "mimetype": "text/x-python",
   "name": "python",
   "nbconvert_exporter": "python",
   "pygments_lexer": "ipython3",
   "version": "3.5.5"
  }
 },
 "nbformat": 4,
 "nbformat_minor": 2
}
