{
 "cells": [
  {
   "cell_type": "code",
   "execution_count": 1,
   "metadata": {},
   "outputs": [],
   "source": [
    "import pandas as pd\n",
    "from datetime import datetime"
   ]
  },
  {
   "cell_type": "code",
   "execution_count": 2,
   "metadata": {},
   "outputs": [],
   "source": [
    "file = pd.read_csv('CVX.csv')"
   ]
  },
  {
   "cell_type": "code",
   "execution_count": 3,
   "metadata": {},
   "outputs": [],
   "source": [
    "df = pd.DataFrame(file)"
   ]
  },
  {
   "cell_type": "code",
   "execution_count": 4,
   "metadata": {},
   "outputs": [],
   "source": [
    "#Parsear String a timestamp\n",
    "def parse_time(x):\n",
    "    datetime_object = datetime.strptime(x,'%H:%M:%S')\n",
    "    return datetime_object"
   ]
  },
  {
   "cell_type": "code",
   "execution_count": 5,
   "metadata": {},
   "outputs": [],
   "source": [
    "def get_index(df):\n",
    "  news_rows = []\n",
    "  for row in df.itertuples(index=True):\n",
    "    index = row.Index\n",
    "    date_1 = parse_time(df['timestamp'][index])\n",
    "    if index < (len(df)-1):\n",
    "      date_2 =  parse_time( df['timestamp'][index+1])\n",
    "    else:\n",
    "      date_2 =  parse_time( df['timestamp'][index])\n",
    "    minutes = ((date_2 - date_1).seconds)/60\n",
    "    if minutes > 1:\n",
    "      news_rows.append({'index': index, 'num': minutes-1})\n",
    "  \n",
    "  return news_rows\n"
   ]
  },
  {
   "cell_type": "code",
   "execution_count": 6,
   "metadata": {},
   "outputs": [
    {
     "data": {
      "text/plain": [
       "[{'index': 0, 'num': 1}, {'index': 391, 'num': 12}, {'index': 392, 'num': 51}]"
      ]
     },
     "execution_count": 6,
     "metadata": {},
     "output_type": "execute_result"
    }
   ],
   "source": [
    "news_rows = get_index(df)\n",
    "news_rows"
   ]
  },
  {
   "cell_type": "code",
   "execution_count": 11,
   "metadata": {},
   "outputs": [],
   "source": [
    "nf = create_df(df, news_rows)"
   ]
  },
  {
   "cell_type": "code",
   "execution_count": null,
   "metadata": {},
   "outputs": [],
   "source": [
    "indexs = []\n",
    "num_rows = []\n",
    "for key in news_rows:\n",
    "  indexs.append(key['index'])\n",
    "  num_rows.append(key['num'])\n",
    "print indexs\n",
    "print num_rows\n",
    "indexs.index(0)"
   ]
  },
  {
   "cell_type": "code",
   "execution_count": 10,
   "metadata": {},
   "outputs": [],
   "source": [
    "def create_df(df, news_rows):\n",
    "  indexs = []\n",
    "  num_rows = []\n",
    "  for key in news_rows:\n",
    "    indexs.append(key['index'])\n",
    "    num_rows.append(key['num'])\n",
    "\n",
    "  nf = pd.DataFrame(columns=['date', 'timestamp', 'ticker', 'open',\n",
    "                             'high', 'low', 'close', 'volume', \n",
    "                             'quantity', 'tradecount'])\n",
    "  index = 0\n",
    "  for row in df.itertuples(index=True):\n",
    "    lista= [row.date, row.timestamp, row.ticker,\n",
    "            row.open, row.high, row.low, row.close,\n",
    "            row.volume, row.quantity, row.tradecount]\n",
    "    \n",
    "    nf.loc[index] = lista\n",
    "    \n",
    "    if row.Index in indexs:\n",
    "        index_array = indexs.index(row.Index)\n",
    "        index = index + 1\n",
    "        \n",
    "        key = 0\n",
    "        while key < num_rows[index_array]:\n",
    "          nf.loc[index] = lista\n",
    "          key = key + 1\n",
    "          index = index + 1\n",
    "            \n",
    "    index = index + 1\n",
    "  nf.to_csv('new1.csv', encoding='utf-8', index=False)\n",
    "  return nf"
   ]
  },
  {
   "cell_type": "code",
   "execution_count": null,
   "metadata": {},
   "outputs": [],
   "source": [
    "date_2 = df['timestamp'][0]\n",
    "date_1 = parse_time(df['timestamp'][0])\n",
    "print date_1 + \n",
    "print type(date_1)"
   ]
  },
  {
   "cell_type": "code",
   "execution_count": null,
   "metadata": {},
   "outputs": [],
   "source": [
    "nf = pd.DataFrame(columns=['date', 'timestamp', 'ticker', 'open', 'high', 'low', 'close',\n",
    "       'volume', 'quantity', 'tradecount'])"
   ]
  },
  {
   "cell_type": "code",
   "execution_count": null,
   "metadata": {},
   "outputs": [],
   "source": [
    "#for idx, val in enumerate(time ,start=4):\n",
    "#    idx,val\n",
    "#    df_t = pd.DataFrame(df, index=[7], columns=['2'])\n",
    "#    df_t"
   ]
  },
  {
   "cell_type": "code",
   "execution_count": null,
   "metadata": {},
   "outputs": [],
   "source": [
    "oc = df[((time>'09:31:00')&(time<'09:37:00'))]\n"
   ]
  }
 ],
 "metadata": {
  "kernelspec": {
   "display_name": "Python 2",
   "language": "python",
   "name": "python2"
  },
  "language_info": {
   "codemirror_mode": {
    "name": "ipython",
    "version": 2
   },
   "file_extension": ".py",
   "mimetype": "text/x-python",
   "name": "python",
   "nbconvert_exporter": "python",
   "pygments_lexer": "ipython2",
   "version": "2.7.14"
  }
 },
 "nbformat": 4,
 "nbformat_minor": 2
}
