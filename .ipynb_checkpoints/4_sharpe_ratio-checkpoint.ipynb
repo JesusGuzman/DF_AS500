{
 "cells": [
  {
   "cell_type": "code",
   "execution_count": 1,
   "metadata": {},
   "outputs": [],
   "source": [
    "import pandas as pd\n",
    "from os import listdir\n",
    "import numpy as np"
   ]
  },
  {
   "cell_type": "code",
   "execution_count": 2,
   "metadata": {},
   "outputs": [],
   "source": [
    "def df_sharpe_ratio(df):    \n",
    "    #daily_rf = 1.1**(1./252) - 1 # daily risk free rate\n",
    "    #K = 252**(0.5) # adjustment factor for daily samplying\n",
    "    #Xcopy = df.copy() #make a copy\n",
    "    #print Xcopy.head()\n",
    "    #calculate daily returns\n",
    "   \n",
    "    X = np.log(df/df.shift(1))\n",
    "    X = X[1:]\n",
    "    #############################\n",
    "    Hourly_AvgLnRtn = np.mean(X)\n",
    "    Hourly_Std = np.std(X)\n",
    "    SharpeRatio = (Hourly_AvgLnRtn/Hourly_Std)*np.sqrt(252*22)\n",
    "    ###############################\n",
    "    \n",
    "    #X_daily_rets =np.log(Xcopy/Xcopy.shift(1))\n",
    "    \n",
    "    #X_daily_rets = (Xcopy / Xcopy.shift(1)) #- 1\n",
    "    \n",
    "    #X_daily_rets = X_daily_rets[1:] # exclude the first row\n",
    "    #Calculate the sharpe ratio. I use this epislon value to avoid NaN results\n",
    "    \n",
    "    #epsi = 1e-16\n",
    "    #temp = X_daily_rets.copy() - daily_rf \n",
    "    #sharpe_ratio = temp.mean() / (X_daily_rets.std() + epsi)\n",
    "    #sharpe_ratio = K * sharpe_ratio #multiply by an adjustment factor to get the annualized version\n",
    "    threshold = 1\n",
    "    #sharpe_ratio[sharpe_ratio < threshold] = 0\n",
    "    #sharpe_ratio[sharpe_ratio >= threshold] = 1\n",
    "    one_sharpe_ratio =SharpeRatio[SharpeRatio >= threshold]\n",
    "\n",
    "    return one_sharpe_ratio\n",
    "    #X_daily_rets\n",
    "    \n",
    "def change_period(new_time, df):\n",
    "    tam = new_time\n",
    "    i=0\n",
    "    stocks = []\n",
    "    first = 0\n",
    "    while i < (len(df)//tam):\n",
    "        nf = df[first:new_time]\n",
    "        stock = { 'date':   nf[nf.columns[1]][first],     'timestamp': nf[nf.columns[2]][first],\n",
    "                  'ticker': nf[nf.columns[3]][first],     'open': nf[nf.columns[4]][first], \n",
    "                  'high': nf[nf.columns[5]].max(),        'low': nf[nf.columns[6]].min(),\n",
    "                  'close': nf[nf.columns[7]][new_time-1], 'volume': nf[nf.columns[8]].sum(),\n",
    "                  'quantity': nf[nf.columns[9]].sum(),    'tradecount': nf[nf.columns[10]].sum() }\n",
    "        stocks.append(stock)\n",
    "    \n",
    "        first = first + tam\n",
    "        new_time = new_time + tam\n",
    "        i = i + 1\n",
    "    \n",
    "    if (len(df)%tam) != 0:\n",
    "        first = len(df)-(len(df)%tam)\n",
    "        new_time = len(df)\n",
    "        nf = df[first:new_time]\n",
    "        stock = { 'date':   nf[nf.columns[1]][first],     'timestamp': nf[nf.columns[2]][first],\n",
    "                  'ticker': nf[nf.columns[3]][first],     'open': nf[nf.columns[4]][first], \n",
    "                  'high': nf[nf.columns[5]].max(),        'low': nf[nf.columns[6]].min(),\n",
    "                  'close': nf[nf.columns[7]][new_time-1], 'volume': nf[nf.columns[8]].sum(),\n",
    "                  'quantity': nf[nf.columns[9]].sum(),    'tradecount': nf[nf.columns[10]].sum() }\n",
    "        stocks.append(stock)\n",
    "    df_stocks = pd.DataFrame(stocks,columns=['date',     'timestamp', 'ticker', 'open',\n",
    "                                             'high',     'low',       'close',  'volume', \n",
    "                                             'quantity', 'tradecount'])\n",
    "    #df_stocks.columns()\n",
    "    return df_stocks\n",
    "\n",
    "def csv_to_df(ticker):\n",
    "    file = pd.read_csv('./emisoras/2018-limpio-1/'+ticker)\n",
    "    df = pd.DataFrame(file)\n",
    "    return df\n",
    "\n",
    "def limit_df(first, last, df):\n",
    "    date = df[df.columns[0]]\n",
    "    df = df[(date>=first_date)&(date<=last_date)]\n",
    "    return df.reset_index()\n",
    "\n",
    "def create_df_returns(first_date, last_date, ticker_list, period):\n",
    "    nf = pd.DataFrame() #df vacio\n",
    "    df = csv_to_df(ticker_list[0]) #obtenemos el df apartir del csv\n",
    "    df = limit_df(first_date, last_date, df) #funcion que obtiene un nuevo df apartir de dos fechas y un df\n",
    "    df = change_period(period, df)\n",
    "    nf['Date'] = df[df.columns[0]]\n",
    "    for ticker in ticker_list:\n",
    "      df = csv_to_df(ticker)\n",
    "      df = limit_df(first_date, last_date, df)\n",
    "      df = change_period(period, df)\n",
    "      nf[ticker] = df[df.columns[6]]\n",
    "    return nf.reset_index()\n",
    "\n",
    "def create_df_returns_heder_list(first_date, last_date, header_list, period, ticker):\n",
    "    nf = pd.DataFrame() #df vacio\n",
    "    df = csv_to_df(ticker)\n",
    "    df = limit_df(first_date, last_date, df) #funcion que obtiene un nuevo df apartir de dos fechas y un df\n",
    "    df = change_period(period, df)\n",
    "    nf['Timestamp'] = df[df.columns[1]]\n",
    "    for ticker in ticker_list:\n",
    "      df = csv_to_df(ticker)\n",
    "      df = limit_df(first_date, last_date, df)\n",
    "      df = change_period(period, df)\n",
    "      nf[ticker] = df[df.columns[6]]\n",
    "    return nf.reset_index()\n",
    "\n",
    "#obtener el nombre de los archivos\n",
    "def ls(pwd): \n",
    "    return listdir(pwd)"
   ]
  },
  {
   "cell_type": "code",
   "execution_count": 3,
   "metadata": {},
   "outputs": [],
   "source": [
    "ticker_list = ls('./emisoras/2018-limpio-1/')\n",
    "\n",
    "first_date = 20180101 #fecha de inicio\n",
    "last_date = 20180503 #fecha final\n",
    "period = 15 #periodo\n",
    "close_df = create_df_returns(first_date, # funcion que regresa un DF con los\n",
    "                             last_date, #  precios de cierre de las emisoras indicadas\n",
    "                             ticker_list, \n",
    "                             period)    "
   ]
  },
  {
   "cell_type": "code",
   "execution_count": 4,
   "metadata": {},
   "outputs": [
    {
     "ename": "AttributeError",
     "evalue": "'float' object has no attribute 'log'",
     "output_type": "error",
     "traceback": [
      "\u001b[0;31m---------------------------------------------------------------------------\u001b[0m",
      "\u001b[0;31mAttributeError\u001b[0m                            Traceback (most recent call last)",
      "\u001b[0;32m<ipython-input-4-9c7c8407e1b5>\u001b[0m in \u001b[0;36m<module>\u001b[0;34m()\u001b[0m\n\u001b[1;32m      1\u001b[0m \u001b[0mcl\u001b[0m \u001b[0;34m=\u001b[0m \u001b[0mclose_df\u001b[0m\u001b[0;34m[\u001b[0m\u001b[0mclose_df\u001b[0m\u001b[0;34m.\u001b[0m\u001b[0mcolumns\u001b[0m\u001b[0;34m[\u001b[0m\u001b[0;36m2\u001b[0m\u001b[0;34m:\u001b[0m\u001b[0;34m]\u001b[0m\u001b[0;34m]\u001b[0m \u001b[0;31m#tomamos solo los close\u001b[0m\u001b[0;34m\u001b[0m\u001b[0m\n\u001b[0;32m----> 2\u001b[0;31m \u001b[0msharpe_ratio\u001b[0m\u001b[0;34m=\u001b[0m \u001b[0mdf_sharpe_ratio\u001b[0m\u001b[0;34m(\u001b[0m\u001b[0mcl\u001b[0m\u001b[0;34m)\u001b[0m \u001b[0;31m#con el dataframe de close calculamos los sharpe ratio\u001b[0m\u001b[0;34m\u001b[0m\u001b[0m\n\u001b[0m",
      "\u001b[0;32m<ipython-input-2-93294a3eefcc>\u001b[0m in \u001b[0;36mdf_sharpe_ratio\u001b[0;34m(df)\u001b[0m\n\u001b[1;32m      6\u001b[0m     \u001b[0;31m#calculate daily returns\u001b[0m\u001b[0;34m\u001b[0m\u001b[0;34m\u001b[0m\u001b[0m\n\u001b[1;32m      7\u001b[0m \u001b[0;34m\u001b[0m\u001b[0m\n\u001b[0;32m----> 8\u001b[0;31m     \u001b[0mX\u001b[0m \u001b[0;34m=\u001b[0m \u001b[0mnp\u001b[0m\u001b[0;34m.\u001b[0m\u001b[0mlog\u001b[0m\u001b[0;34m(\u001b[0m\u001b[0mdf\u001b[0m\u001b[0;34m/\u001b[0m\u001b[0mdf\u001b[0m\u001b[0;34m.\u001b[0m\u001b[0mshift\u001b[0m\u001b[0;34m(\u001b[0m\u001b[0;36m1\u001b[0m\u001b[0;34m)\u001b[0m\u001b[0;34m)\u001b[0m\u001b[0;34m\u001b[0m\u001b[0m\n\u001b[0m\u001b[1;32m      9\u001b[0m     \u001b[0mX\u001b[0m \u001b[0;34m=\u001b[0m \u001b[0mX\u001b[0m\u001b[0;34m[\u001b[0m\u001b[0;36m1\u001b[0m\u001b[0;34m:\u001b[0m\u001b[0;34m]\u001b[0m\u001b[0;34m\u001b[0m\u001b[0m\n\u001b[1;32m     10\u001b[0m     \u001b[0;31m#############################\u001b[0m\u001b[0;34m\u001b[0m\u001b[0;34m\u001b[0m\u001b[0m\n",
      "\u001b[0;31mAttributeError\u001b[0m: 'float' object has no attribute 'log'"
     ]
    }
   ],
   "source": [
    "cl = close_df[close_df.columns[2:]] #tomamos solo los close\n",
    "sharpe_ratio= df_sharpe_ratio(cl) #con el dataframe de close calculamos los sharpe ratio"
   ]
  },
  {
   "cell_type": "code",
   "execution_count": null,
   "metadata": {},
   "outputs": [],
   "source": [
    "#Obtener los 20 mejores sharpe ratios\n",
    "final_sharpe_ratios = sharpe_ratio.sort_values( ascending=False)[0:20]"
   ]
  },
  {
   "cell_type": "code",
   "execution_count": null,
   "metadata": {},
   "outputs": [],
   "source": [
    "final_sharpe_ratios"
   ]
  },
  {
   "cell_type": "code",
   "execution_count": null,
   "metadata": {},
   "outputs": [],
   "source": []
  }
 ],
 "metadata": {
  "kernelspec": {
   "display_name": "Python 3",
   "language": "python",
   "name": "python3"
  },
  "language_info": {
   "codemirror_mode": {
    "name": "ipython",
    "version": 3
   },
   "file_extension": ".py",
   "mimetype": "text/x-python",
   "name": "python",
   "nbconvert_exporter": "python",
   "pygments_lexer": "ipython3",
   "version": "3.5.5"
  }
 },
 "nbformat": 4,
 "nbformat_minor": 2
}
