{
 "cells": [
  {
   "cell_type": "code",
   "execution_count": 2,
   "metadata": {},
   "outputs": [],
   "source": [
    "import pandas as pd\n",
    "import numpy as np\n",
    "from datetime import datetime"
   ]
  },
  {
   "cell_type": "code",
   "execution_count": 3,
   "metadata": {},
   "outputs": [],
   "source": [
    "def change_period(new_time, df):\n",
    "    tam = new_time\n",
    "    i=0\n",
    "    stocks = []\n",
    "    first = 0\n",
    "    while i < (len(df)/tam):\n",
    "        nf = df[first:new_time]\n",
    "        stock = { 'date':   nf[nf.columns[0]][first],     'timestamp': nf[nf.columns[1]][first],\n",
    "                  'ticker': nf[nf.columns[2]][first],     'open': nf[nf.columns[3]][first], \n",
    "                  'high': nf[nf.columns[4]].max(),        'low': nf[nf.columns[5]].min(),\n",
    "                  'close': nf[nf.columns[6]][new_time-1], 'volume': nf[nf.columns[7]].sum(),\n",
    "                  'quantity': nf[nf.columns[8]].sum(),    'tradecount': nf[nf.columns[9]].sum() }\n",
    "        stocks.append(stock)\n",
    "    \n",
    "        first = first + tam\n",
    "        new_time = new_time + tam\n",
    "        i = i + 1\n",
    "    \n",
    "    if (len(df)%tam) != 0:\n",
    "        first = len(df)-(len(df)%tam)\n",
    "        new_time = len(df)\n",
    "        nf = df[first:new_time]\n",
    "        stock = { 'date':   nf[nf.columns[0]][first],     'timestamp': nf[nf.columns[1]][first],\n",
    "                  'ticker': nf[nf.columns[2]][first],     'open': nf[nf.columns[3]][first], \n",
    "                  'high': nf[nf.columns[4]].max(),        'low': nf[nf.columns[5]].min(),\n",
    "                  'close': nf[nf.columns[6]][new_time-1], 'volume': nf[nf.columns[7]].sum(),\n",
    "                  'quantity': nf[nf.columns[8]].sum(),    'tradecount': nf[nf.columns[9]].sum() }\n",
    "        stocks.append(stock)\n",
    "    df_stocks = pd.DataFrame(stocks,columns=['date',     'timestamp', 'ticker', 'open',\n",
    "                                             'high',     'low',       'close',  'volume', \n",
    "                                             'quantity', 'tradecount'])\n",
    "    return df_stocks"
   ]
  },
  {
   "cell_type": "code",
   "execution_count": 4,
   "metadata": {},
   "outputs": [],
   "source": [
    "def csv_to_df(ticker):\n",
    "  file = pd.read_csv('./emisoras/2008-limpio-1/'+ticker+'.csv')\n",
    "  df = pd.DataFrame(file)\n",
    "  return df"
   ]
  },
  {
   "cell_type": "code",
   "execution_count": 5,
   "metadata": {},
   "outputs": [],
   "source": [
    "def limit_df(first, last, df):\n",
    "  date = df[df.columns[0]]\n",
    "  df = df[(date>=first_date)&(date<=last_date)]\n",
    "  return df.reset_index()"
   ]
  },
  {
   "cell_type": "code",
   "execution_count": 17,
   "metadata": {},
   "outputs": [],
   "source": [
    "def create_df_returns(first_date, last_date, ticker_list, period):\n",
    "  nf = pd.DataFrame() #df vacio\n",
    "  df = csv_to_df(ticker_list[0]) #obtenemos el df apartir del csv\n",
    "  df = limit_df(first_date, last_date, df) #funcion que obtiene un nuevo df apartir de dos fechas y un df\n",
    "  df = change_period(period, df)\n",
    "  nf['Date'] = df[df.columns[2]]\n",
    "  for ticker in ticker_list:\n",
    "    df = csv_to_df(ticker)\n",
    "    df = limit_df(first_date, last_date, df)\n",
    "    nf[ticker] = df[df.columns[6]]\n",
    "  return nf.reset_index()\n",
    "\n",
    "def create_df_returns_heder_list(first_date, last_date, header_list, period, ticker):\n",
    "  nf = pd.DataFrame() #df vacio\n",
    "  df = csv_to_df(ticker)\n",
    "  df = limit_df(first_date, last_date, df) #funcion que obtiene un nuevo df apartir de dos fechas y un df\n",
    "  df = change_period(period, df)\n",
    "  nf['Date'] = df[df.columns[2]]\n",
    "  for ticker in ticker_list:\n",
    "    df = csv_to_df(ticker)\n",
    "    df = limit_df(first_date, last_date, df)\n",
    "    df = change_period(period, df)\n",
    "    \n",
    "    nf[ticker] = df[df.columns[6]]\n",
    "  return nf.reset_index()"
   ]
  },
  {
   "cell_type": "code",
   "execution_count": 18,
   "metadata": {},
   "outputs": [],
   "source": [
    "ticker_list = ['ABT','ACAS']\n",
    "first_date = 20080110\n",
    "last_date = 20080111\n",
    "close_df = create_df_returns(first_date, last_date, ticker_list, 15)\n",
    "#close_df"
   ]
  },
  {
   "cell_type": "code",
   "execution_count": 25,
   "metadata": {},
   "outputs": [],
   "source": [
    "cl = close_df[close_df.columns[2:4]]"
   ]
  },
  {
   "cell_type": "code",
   "execution_count": 26,
   "metadata": {},
   "outputs": [],
   "source": [
    "mat =np.log(cl/cl.shift(1))"
   ]
  },
  {
   "cell_type": "code",
   "execution_count": 38,
   "metadata": {},
   "outputs": [],
   "source": [
    "#pd.DataFrame(np.cov(mat[1:]))"
   ]
  },
  {
   "cell_type": "code",
   "execution_count": null,
   "metadata": {},
   "outputs": [],
   "source": []
  }
 ],
 "metadata": {
  "kernelspec": {
   "display_name": "Python 2",
   "language": "python",
   "name": "python2"
  },
  "language_info": {
   "codemirror_mode": {
    "name": "ipython",
    "version": 2
   },
   "file_extension": ".py",
   "mimetype": "text/x-python",
   "name": "python",
   "nbconvert_exporter": "python",
   "pygments_lexer": "ipython2",
   "version": "2.7.14"
  }
 },
 "nbformat": 4,
 "nbformat_minor": 2
}
