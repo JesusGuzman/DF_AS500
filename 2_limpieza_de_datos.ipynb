{
 "cells": [
  {
   "cell_type": "code",
   "execution_count": null,
   "metadata": {},
   "outputs": [],
   "source": [
    "import pandas as pd\n",
    "from os import listdir\n",
    "from datetime import datetime"
   ]
  },
  {
   "cell_type": "code",
   "execution_count": null,
   "metadata": {},
   "outputs": [],
   "source": [
    "#Parsear String a timestamp\n",
    "def parse_time(x):\n",
    "    datetime_object = datetime.strptime(x,'%H:%M:%S')\n",
    "    return datetime_object \n",
    "\n",
    "#Obtener los indices y el numero de columnas faltantes\n",
    "def get_index(df):\n",
    "  news_rows = []\n",
    "  for row in df.itertuples(index=True):\n",
    "    index = row.Index\n",
    "    date_1 = parse_time(df['Timestamp'][index])\n",
    "    if index < (len(df)-1):\n",
    "      date_2 =  parse_time( df['Timestamp'][index+1])\n",
    "    else:\n",
    "      date_2 =  parse_time( df['Timestamp'][index])\n",
    "    minutes = ((date_2 - date_1).seconds)/60\n",
    "    if minutes > 1:\n",
    "      news_rows.append({'index': index, 'num': minutes-1})\n",
    "  return news_rows\n",
    "\n",
    "#obtener el nombre de los archivos\n",
    "def ls(pwd): \n",
    "    return listdir(pwd)\n",
    "\n",
    "#Funcion que agrega las filas faltante y crea un nuevo DF\n",
    "def create_df(df, news_rows):\n",
    "  indexs = []\n",
    "  num_rows = []\n",
    "  for key in news_rows:\n",
    "    if key['num'] < 1050:\n",
    "      indexs.append(key['index'])\n",
    "      num_rows.append(key['num'])\n",
    "    else:\n",
    "        continue\n",
    "\n",
    "  nf = pd.DataFrame(columns=['Date', 'Timestamp', 'Ticker', 'OpenPrice',\n",
    "                             'HighPrice', 'LowPrice', 'ClosePrice', 'TotalVolume', \n",
    "                             'TotalQuantity', 'TotalTradeCount'])\n",
    "  index = 0\n",
    "  for row in df.itertuples(index=True):\n",
    "    lista= [row.Date, row.Timestamp, row.Ticker,\n",
    "            row.OpenPrice, row.HighPrice, row.LowPrice, row.ClosePrice,\n",
    "            row.TotalVolume, row.TotalQuantity, row.TotalTradeCount]\n",
    "    \n",
    "    nf.loc[index] = lista\n",
    "    \n",
    "    if row.Index in indexs:\n",
    "        index_array = indexs.index(row.Index)\n",
    "        index = index + 1\n",
    "        \n",
    "        key = 0\n",
    "        while key < num_rows[index_array]:\n",
    "          nf.loc[index] = lista\n",
    "          key = key + 1\n",
    "          index = index + 1\n",
    "            \n",
    "    index = index + 1\n",
    "  #nf.to_csv('2018-complete.csv', encoding='utf-8', index=False)\n",
    "  return nf\n",
    "\n",
    "def limpiar_datos(tickers):\n",
    "    for ticker in tickers:\n",
    "        file = pd.read_csv('./emisoras/2018/'+ticker)\n",
    "        df = pd.DataFrame(file)\n",
    "        date = df[df.columns[1]]\n",
    "        new_df = df[(date>'09:30:00')&(date<'16:01:00')]\n",
    "        new_df.to_csv('./emisoras/2018-limpio/'+ticker, encoding='utf-8', index=False)\n",
    "\n",
    "def completar_datos(tickers):\n",
    "    for ticker in tickers:\n",
    "        file = pd.read_csv('./emisoras/2018-limpio/'+ticker)\n",
    "        df = pd.DataFrame(file)    \n",
    "        index = get_index(df)\n",
    "        new_df = create_df(df, index)\n",
    "        new_df.to_csv('./emisoras/2018-limpio-1/'+ticker, encoding='utf-8', index=False)"
   ]
  },
  {
   "cell_type": "code",
   "execution_count": null,
   "metadata": {},
   "outputs": [],
   "source": [
    "tickers = ls('./emisoras/2018/') #Limpiamos los datos en el tiempo de la bolsa\n",
    "oc = limpiar_datos(tickers)"
   ]
  },
  {
   "cell_type": "code",
   "execution_count": null,
   "metadata": {},
   "outputs": [],
   "source": [
    "tickers_2 = ls('./emisoras/2018-limpio/')\n",
    "completar_datos(tickers_2)"
   ]
  },
  {
   "cell_type": "code",
   "execution_count": null,
   "metadata": {},
   "outputs": [],
   "source": []
  }
 ],
 "metadata": {
  "kernelspec": {
   "display_name": "Python 2",
   "language": "python",
   "name": "python2"
  },
  "language_info": {
   "codemirror_mode": {
    "name": "ipython",
    "version": 2
   },
   "file_extension": ".py",
   "mimetype": "text/x-python",
   "name": "python",
   "nbconvert_exporter": "python",
   "pygments_lexer": "ipython2",
   "version": "2.7.14"
  }
 },
 "nbformat": 4,
 "nbformat_minor": 2
}
