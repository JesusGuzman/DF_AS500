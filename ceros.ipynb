{
 "cells": [
  {
   "cell_type": "code",
   "execution_count": null,
   "metadata": {},
   "outputs": [],
   "source": [
    "import pandas as pd\n",
    "from os import listdir\n",
    "import numpy as np"
   ]
  },
  {
   "cell_type": "code",
   "execution_count": null,
   "metadata": {},
   "outputs": [],
   "source": [
    "file = pd.read_csv('./emisoras/2018-limpio-1/D.csv')\n",
    "df = pd.DataFrame(file)"
   ]
  },
  {
   "cell_type": "code",
   "execution_count": null,
   "metadata": {},
   "outputs": [],
   "source": [
    "ticker_list = ['D']\n",
    "first_date = 20180101\n",
    "last_date = 20180503\n",
    "close_df = create_df_returns(first_date, last_date, ticker_list, 15)\n",
    "#close_df\n",
    "\n"
   ]
  },
  {
   "cell_type": "code",
   "execution_count": null,
   "metadata": {},
   "outputs": [],
   "source": [
    "len(close_df)"
   ]
  },
  {
   "cell_type": "code",
   "execution_count": null,
   "metadata": {},
   "outputs": [],
   "source": [
    "cl = close_df[close_df.columns[2:]]\n",
    "returns = (cl[0:1000]/cl[0:1000].shift(1))\n",
    "returns"
   ]
  },
  {
   "cell_type": "code",
   "execution_count": null,
   "metadata": {},
   "outputs": [],
   "source": [
    "sharpe = (returns / np.std(returns) * np.sqrt(365.25) ) "
   ]
  },
  {
   "cell_type": "code",
   "execution_count": null,
   "metadata": {},
   "outputs": [],
   "source": [
    "s2 = np.sqrt(126) * (returns.mean() / returns.std())"
   ]
  },
  {
   "cell_type": "code",
   "execution_count": null,
   "metadata": {},
   "outputs": [],
   "source": [
    "s2"
   ]
  },
  {
   "cell_type": "code",
   "execution_count": null,
   "metadata": {},
   "outputs": [],
   "source": []
  },
  {
   "cell_type": "code",
   "execution_count": null,
   "metadata": {},
   "outputs": [],
   "source": [
    "def change_period(new_time, df):\n",
    "    tam = new_time\n",
    "    i=0\n",
    "    stocks = []\n",
    "    first = 0\n",
    "    while i < (len(df)/tam):\n",
    "        nf = df[first:new_time]\n",
    "        stock = { 'date':   nf[nf.columns[1]][first],     'timestamp': nf[nf.columns[2]][first],\n",
    "                  'ticker': nf[nf.columns[3]][first],     'open': nf[nf.columns[4]][first], \n",
    "                  'high': nf[nf.columns[5]].max(),        'low': nf[nf.columns[6]].min(),\n",
    "                  'close': nf[nf.columns[7]][new_time-1], 'volume': nf[nf.columns[8]].sum(),\n",
    "                  'quantity': nf[nf.columns[9]].sum(),    'tradecount': nf[nf.columns[10]].sum() }\n",
    "        stocks.append(stock)\n",
    "    \n",
    "        first = first + tam\n",
    "        new_time = new_time + tam\n",
    "        i = i + 1\n",
    "    \n",
    "    if (len(df)%tam) != 0:\n",
    "        first = len(df)-(len(df)%tam)\n",
    "        new_time = len(df)\n",
    "        nf = df[first:new_time]\n",
    "        stock = { 'date':   nf[nf.columns[1]][first],     'timestamp': nf[nf.columns[2]][first],\n",
    "                  'ticker': nf[nf.columns[3]][first],     'open': nf[nf.columns[4]][first], \n",
    "                  'high': nf[nf.columns[5]].max(),        'low': nf[nf.columns[6]].min(),\n",
    "                  'close': nf[nf.columns[7]][new_time-1], 'volume': nf[nf.columns[8]].sum(),\n",
    "                  'quantity': nf[nf.columns[9]].sum(),    'tradecount': nf[nf.columns[10]].sum() }\n",
    "        stocks.append(stock)\n",
    "    df_stocks = pd.DataFrame(stocks,columns=['date',     'timestamp', 'ticker', 'open',\n",
    "                                             'high',     'low',       'close',  'volume', \n",
    "                                             'quantity', 'tradecount'])\n",
    "    #df_stocks.columns()\n",
    "    return df_stocks\n",
    "\n",
    "def csv_to_df(ticker):\n",
    "  file = pd.read_csv('./emisoras/2018-limpio-1/'+ticker+'.csv')\n",
    "  df = pd.DataFrame(file)\n",
    "  return df\n",
    "\n",
    "def limit_df(first, last, df):\n",
    "  date = df[df.columns[0]]\n",
    "  df = df[(date>=first_date)&(date<=last_date)]\n",
    "  return df.reset_index()\n",
    "\n",
    "def create_df_returns(first_date, last_date, ticker_list, period):\n",
    "  nf = pd.DataFrame() #df vacio\n",
    "  df = csv_to_df(ticker_list[0]) #obtenemos el df apartir del csv\n",
    "  df = limit_df(first_date, last_date, df) #funcion que obtiene un nuevo df apartir de dos fechas y un df\n",
    "  df = change_period(period, df)\n",
    "  nf['Date'] = df[df.columns[1]]\n",
    "  for ticker in ticker_list:\n",
    "    df = csv_to_df(ticker)\n",
    "    df = limit_df(first_date, last_date, df)\n",
    "    df = change_period(period, df)\n",
    "    nf[ticker] = df[df.columns[6]]\n",
    "  return nf.reset_index()\n",
    "\n",
    "def create_df_returns_heder_list(first_date, last_date, header_list, period, ticker):\n",
    "  nf = pd.DataFrame() #df vacio\n",
    "  df = csv_to_df(ticker)\n",
    "  df = limit_df(first_date, last_date, df) #funcion que obtiene un nuevo df apartir de dos fechas y un df\n",
    "  df = change_period(period, df)\n",
    "  nf['Timestamp'] = df[df.columns[1]]\n",
    "  for ticker in ticker_list:\n",
    "    df = csv_to_df(ticker)\n",
    "    df = limit_df(first_date, last_date, df)\n",
    "    df = change_period(period, df)\n",
    "    nf[ticker] = df[df.columns[6]]\n",
    "  return nf.reset_index()"
   ]
  },
  {
   "cell_type": "code",
   "execution_count": null,
   "metadata": {},
   "outputs": [],
   "source": []
  }
 ],
 "metadata": {
  "kernelspec": {
   "display_name": "Python 2",
   "language": "python",
   "name": "python2"
  },
  "language_info": {
   "codemirror_mode": {
    "name": "ipython",
    "version": 2
   },
   "file_extension": ".py",
   "mimetype": "text/x-python",
   "name": "python",
   "nbconvert_exporter": "python",
   "pygments_lexer": "ipython2",
   "version": "2.7.14"
  }
 },
 "nbformat": 4,
 "nbformat_minor": 2
}
