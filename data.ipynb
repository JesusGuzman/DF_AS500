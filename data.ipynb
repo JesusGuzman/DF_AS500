{
 "cells": [
  {
   "cell_type": "code",
   "execution_count": 1,
   "metadata": {},
   "outputs": [],
   "source": [
    "import pandas as pd\n",
    "import numpy as np\n",
    "from datetime import datetime"
   ]
  },
  {
   "cell_type": "code",
   "execution_count": 2,
   "metadata": {},
   "outputs": [],
   "source": [
    "file = pd.read_csv('ABT.csv')\n",
    "df = pd.DataFrame(file)"
   ]
  },
  {
   "cell_type": "code",
   "execution_count": 5,
   "metadata": {},
   "outputs": [],
   "source": [
    "def change_period(new_time, df):\n",
    "    tam = new_time\n",
    "    i=0\n",
    "    stocks = []\n",
    "    first = 0\n",
    "    while i < (len(df)/tam):\n",
    "        nf = df[first:new_time]\n",
    "        stock = { 'date':   nf[nf.columns[0]][first],     'timestamp': nf[nf.columns[1]][first],\n",
    "                  'ticker': nf[nf.columns[2]][first],     'open': nf[nf.columns[3]][first], \n",
    "                  'high': nf[nf.columns[4]].max(),        'low': nf[nf.columns[5]].min(),\n",
    "                  'close': nf[nf.columns[6]][new_time-1], 'volume': nf[nf.columns[7]].sum(),\n",
    "                  'quantity': nf[nf.columns[8]].sum(),    'tradecount': nf[nf.columns[9]].sum() }\n",
    "        stocks.append(stock)\n",
    "    \n",
    "        first = first + tam\n",
    "        new_time = new_time + tam\n",
    "        i = i + 1\n",
    "    \n",
    "    if (len(df)%tam) != 0:\n",
    "        first = len(df)-(len(df)%tam)\n",
    "        new_time = len(df)\n",
    "        nf = df[first:new_time]\n",
    "        stock = { 'date':   nf[nf.columns[0]][first],     'timestamp': nf[nf.columns[1]][first],\n",
    "                  'ticker': nf[nf.columns[2]][first],     'open': nf[nf.columns[3]][first], \n",
    "                  'high': nf[nf.columns[4]].max(),        'low': nf[nf.columns[5]].min(),\n",
    "                  'close': nf[nf.columns[6]][new_time-1], 'volume': nf[nf.columns[7]].sum(),\n",
    "                  'quantity': nf[nf.columns[8]].sum(),    'tradecount': nf[nf.columns[9]].sum() }\n",
    "        stocks.append(stock)\n",
    "    df_stocks = pd.DataFrame(stocks,columns=['date',     'timestamp', 'ticker', 'open',\n",
    "                                             'high',     'low',       'close',  'volume', \n",
    "                                             'quantity', 'tradecount'])\n",
    "    return df_stocks"
   ]
  },
  {
   "cell_type": "code",
   "execution_count": 8,
   "metadata": {},
   "outputs": [],
   "source": [
    "def csv_to_df(ticker):\n",
    "  file = pd.read_csv(ticker+'.csv')\n",
    "  df = pd.DataFrame(file)\n",
    "  return df"
   ]
  },
  {
   "cell_type": "code",
   "execution_count": 9,
   "metadata": {},
   "outputs": [],
   "source": [
    "def limit_df(first, last, df):\n",
    "  date = df[df.columns[0]]\n",
    "  df = df[(date>=first_date)&(date<=last_date)]\n",
    "  return df"
   ]
  },
  {
   "cell_type": "code",
   "execution_count": 10,
   "metadata": {},
   "outputs": [],
   "source": [
    "def create_df_returns(first_date, last_date, ticker_list):\n",
    "  nf = pd.DataFrame() #df vacio\n",
    "  df = csv_to_df(ticker_list[0]) #obtenemos el df apartir del csv\n",
    "  df = limit_df(first_date, last_date, df) #funcion que obtiene un nuevo df apartir de dos fechas y un df\n",
    "  nf['date'] = df[df.columns[0]]\n",
    "  for ticker in ticker_list:\n",
    "    df = csv_to_df(ticker)\n",
    "    df = limit_df(first_date, last_date, df)\n",
    "    nf[ticker] = df[df.columns[6]]\n",
    "  return nf.reset_index()"
   ]
  },
  {
   "cell_type": "code",
   "execution_count": 11,
   "metadata": {},
   "outputs": [],
   "source": [
    "ticker_list = ['ABT','CVX']\n",
    "first_date = '2018-01-09'\n",
    "last_date = '2018-01-14'\n",
    "close_df = create_df_returns(first_date, last_date, ticker_list)"
   ]
  },
  {
   "cell_type": "code",
   "execution_count": 12,
   "metadata": {},
   "outputs": [
    {
     "data": {
      "text/html": [
       "<div>\n",
       "<style scoped>\n",
       "    .dataframe tbody tr th:only-of-type {\n",
       "        vertical-align: middle;\n",
       "    }\n",
       "\n",
       "    .dataframe tbody tr th {\n",
       "        vertical-align: top;\n",
       "    }\n",
       "\n",
       "    .dataframe thead th {\n",
       "        text-align: right;\n",
       "    }\n",
       "</style>\n",
       "<table border=\"1\" class=\"dataframe\">\n",
       "  <thead>\n",
       "    <tr style=\"text-align: right;\">\n",
       "      <th></th>\n",
       "      <th>ABT</th>\n",
       "      <th>CVX</th>\n",
       "    </tr>\n",
       "  </thead>\n",
       "  <tbody>\n",
       "    <tr>\n",
       "      <th>0</th>\n",
       "      <td>58.76</td>\n",
       "      <td>127.88</td>\n",
       "    </tr>\n",
       "    <tr>\n",
       "      <th>1</th>\n",
       "      <td>58.78</td>\n",
       "      <td>127.86</td>\n",
       "    </tr>\n",
       "    <tr>\n",
       "      <th>2</th>\n",
       "      <td>58.83</td>\n",
       "      <td>127.72</td>\n",
       "    </tr>\n",
       "    <tr>\n",
       "      <th>3</th>\n",
       "      <td>58.89</td>\n",
       "      <td>127.88</td>\n",
       "    </tr>\n",
       "    <tr>\n",
       "      <th>4</th>\n",
       "      <td>58.91</td>\n",
       "      <td>127.83</td>\n",
       "    </tr>\n",
       "    <tr>\n",
       "      <th>5</th>\n",
       "      <td>58.87</td>\n",
       "      <td>127.65</td>\n",
       "    </tr>\n",
       "  </tbody>\n",
       "</table>\n",
       "</div>"
      ],
      "text/plain": [
       "     ABT     CVX\n",
       "0  58.76  127.88\n",
       "1  58.78  127.86\n",
       "2  58.83  127.72\n",
       "3  58.89  127.88\n",
       "4  58.91  127.83\n",
       "5  58.87  127.65"
      ]
     },
     "execution_count": 12,
     "metadata": {},
     "output_type": "execute_result"
    }
   ],
   "source": [
    "cl = close_df[close_df.columns[2:4]]\n",
    "cl"
   ]
  },
  {
   "cell_type": "code",
   "execution_count": 13,
   "metadata": {},
   "outputs": [
    {
     "data": {
      "text/html": [
       "<div>\n",
       "<style scoped>\n",
       "    .dataframe tbody tr th:only-of-type {\n",
       "        vertical-align: middle;\n",
       "    }\n",
       "\n",
       "    .dataframe tbody tr th {\n",
       "        vertical-align: top;\n",
       "    }\n",
       "\n",
       "    .dataframe thead th {\n",
       "        text-align: right;\n",
       "    }\n",
       "</style>\n",
       "<table border=\"1\" class=\"dataframe\">\n",
       "  <thead>\n",
       "    <tr style=\"text-align: right;\">\n",
       "      <th></th>\n",
       "      <th>ABT</th>\n",
       "      <th>CVX</th>\n",
       "    </tr>\n",
       "  </thead>\n",
       "  <tbody>\n",
       "    <tr>\n",
       "      <th>0</th>\n",
       "      <td>NaN</td>\n",
       "      <td>NaN</td>\n",
       "    </tr>\n",
       "    <tr>\n",
       "      <th>1</th>\n",
       "      <td>0.000340</td>\n",
       "      <td>-0.000156</td>\n",
       "    </tr>\n",
       "    <tr>\n",
       "      <th>2</th>\n",
       "      <td>0.000850</td>\n",
       "      <td>-0.001096</td>\n",
       "    </tr>\n",
       "    <tr>\n",
       "      <th>3</th>\n",
       "      <td>0.001019</td>\n",
       "      <td>0.001252</td>\n",
       "    </tr>\n",
       "    <tr>\n",
       "      <th>4</th>\n",
       "      <td>0.000340</td>\n",
       "      <td>-0.000391</td>\n",
       "    </tr>\n",
       "    <tr>\n",
       "      <th>5</th>\n",
       "      <td>-0.000679</td>\n",
       "      <td>-0.001409</td>\n",
       "    </tr>\n",
       "  </tbody>\n",
       "</table>\n",
       "</div>"
      ],
      "text/plain": [
       "        ABT       CVX\n",
       "0       NaN       NaN\n",
       "1  0.000340 -0.000156\n",
       "2  0.000850 -0.001096\n",
       "3  0.001019  0.001252\n",
       "4  0.000340 -0.000391\n",
       "5 -0.000679 -0.001409"
      ]
     },
     "execution_count": 13,
     "metadata": {},
     "output_type": "execute_result"
    }
   ],
   "source": [
    "mat =np.log(cl/cl.shift(1))\n",
    "mat"
   ]
  },
  {
   "cell_type": "code",
   "execution_count": 14,
   "metadata": {},
   "outputs": [
    {
     "data": {
      "text/html": [
       "<div>\n",
       "<style scoped>\n",
       "    .dataframe tbody tr th:only-of-type {\n",
       "        vertical-align: middle;\n",
       "    }\n",
       "\n",
       "    .dataframe tbody tr th {\n",
       "        vertical-align: top;\n",
       "    }\n",
       "\n",
       "    .dataframe thead th {\n",
       "        text-align: right;\n",
       "    }\n",
       "</style>\n",
       "<table border=\"1\" class=\"dataframe\">\n",
       "  <thead>\n",
       "    <tr style=\"text-align: right;\">\n",
       "      <th></th>\n",
       "      <th>0</th>\n",
       "      <th>1</th>\n",
       "      <th>2</th>\n",
       "      <th>3</th>\n",
       "      <th>4</th>\n",
       "    </tr>\n",
       "  </thead>\n",
       "  <tbody>\n",
       "    <tr>\n",
       "      <th>0</th>\n",
       "      <td>1.233647e-07</td>\n",
       "      <td>4.832613e-07</td>\n",
       "      <td>-5.776545e-08</td>\n",
       "      <td>1.814579e-07</td>\n",
       "      <td>1.812725e-07</td>\n",
       "    </tr>\n",
       "    <tr>\n",
       "      <th>1</th>\n",
       "      <td>4.832613e-07</td>\n",
       "      <td>1.893099e-06</td>\n",
       "      <td>-2.262869e-07</td>\n",
       "      <td>7.108322e-07</td>\n",
       "      <td>7.101059e-07</td>\n",
       "    </tr>\n",
       "    <tr>\n",
       "      <th>2</th>\n",
       "      <td>-5.776545e-08</td>\n",
       "      <td>-2.262869e-07</td>\n",
       "      <td>2.704865e-08</td>\n",
       "      <td>-8.496759e-08</td>\n",
       "      <td>-8.488076e-08</td>\n",
       "    </tr>\n",
       "    <tr>\n",
       "      <th>3</th>\n",
       "      <td>1.814579e-07</td>\n",
       "      <td>7.108322e-07</td>\n",
       "      <td>-8.496759e-08</td>\n",
       "      <td>2.669076e-07</td>\n",
       "      <td>2.666349e-07</td>\n",
       "    </tr>\n",
       "    <tr>\n",
       "      <th>4</th>\n",
       "      <td>1.812725e-07</td>\n",
       "      <td>7.101059e-07</td>\n",
       "      <td>-8.488076e-08</td>\n",
       "      <td>2.666349e-07</td>\n",
       "      <td>2.663624e-07</td>\n",
       "    </tr>\n",
       "  </tbody>\n",
       "</table>\n",
       "</div>"
      ],
      "text/plain": [
       "              0             1             2             3             4\n",
       "0  1.233647e-07  4.832613e-07 -5.776545e-08  1.814579e-07  1.812725e-07\n",
       "1  4.832613e-07  1.893099e-06 -2.262869e-07  7.108322e-07  7.101059e-07\n",
       "2 -5.776545e-08 -2.262869e-07  2.704865e-08 -8.496759e-08 -8.488076e-08\n",
       "3  1.814579e-07  7.108322e-07 -8.496759e-08  2.669076e-07  2.666349e-07\n",
       "4  1.812725e-07  7.101059e-07 -8.488076e-08  2.666349e-07  2.663624e-07"
      ]
     },
     "execution_count": 14,
     "metadata": {},
     "output_type": "execute_result"
    }
   ],
   "source": [
    "pd.DataFrame(np.cov(mat[1:]))"
   ]
  },
  {
   "cell_type": "code",
   "execution_count": null,
   "metadata": {},
   "outputs": [],
   "source": []
  }
 ],
 "metadata": {
  "kernelspec": {
   "display_name": "Python 2",
   "language": "python",
   "name": "python2"
  },
  "language_info": {
   "codemirror_mode": {
    "name": "ipython",
    "version": 2
   },
   "file_extension": ".py",
   "mimetype": "text/x-python",
   "name": "python",
   "nbconvert_exporter": "python",
   "pygments_lexer": "ipython2",
   "version": "2.7.14"
  }
 },
 "nbformat": 4,
 "nbformat_minor": 2
}
