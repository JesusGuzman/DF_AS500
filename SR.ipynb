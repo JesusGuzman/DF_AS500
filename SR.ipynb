{
 "cells": [
  {
   "cell_type": "code",
   "execution_count": 1,
   "metadata": {},
   "outputs": [],
   "source": [
    "import pandas as pd\n",
    "from os import listdir\n",
    "import numpy as np"
   ]
  },
  {
   "cell_type": "code",
   "execution_count": 2,
   "metadata": {},
   "outputs": [],
   "source": [
    "def df_sharpe_ratio(df):    \n",
    "    X = np.log(df/df.shift(1))\n",
    "    X = X[1:]\n",
    "    #############################\n",
    "    Hourly_AvgLnRtn = np.mean(X)\n",
    "    Hourly_Std = np.std(X)\n",
    "    SharpeRatio = (Hourly_AvgLnRtn/Hourly_Std)*np.sqrt(252*22)\n",
    "    ###############################\n",
    "    threshold = 1\n",
    "    one_sharpe_ratio =SharpeRatio[SharpeRatio >= threshold]\n",
    "\n",
    "    return one_sharpe_ratio\n",
    "    #X_daily_rets"
   ]
  },
  {
   "cell_type": "code",
   "execution_count": 3,
   "metadata": {},
   "outputs": [],
   "source": [
    "def create_df_returns(first_date, last_date, ticker_list, period):\n",
    "    nf = pd.DataFrame() #df vacio\n",
    "    df = csv_to_df(ticker_list[0]) #obtenemos el df apartir del csv\n",
    "    df = limit_df(first_date, last_date, df) #funcion que obtiene un nuevo df apartir de dos fechas y un df\n",
    "    df = change_period(period, df)\n",
    "    nf['Date'] = df[df.columns[0]]\n",
    "    for ticker in ticker_list:\n",
    "      df = csv_to_df(ticker)\n",
    "      df = limit_df(first_date, last_date, df)\n",
    "      df = change_period(period, df)\n",
    "      nf[ticker] = df[df.columns[6]]\n",
    "    return nf.reset_index()\n",
    "\n",
    "def ls(pwd): \n",
    "    return listdir(pwd)"
   ]
  },
  {
   "cell_type": "code",
   "execution_count": 4,
   "metadata": {},
   "outputs": [],
   "source": [
    "def csv_to_df(ticker):\n",
    "    file = pd.read_csv('./emisoras/All-Complete-Ticker-Data/'+ticker)\n",
    "    df = pd.DataFrame(file)\n",
    "    return df\n",
    "\n",
    "def limit_df(first, last, df):\n",
    "    date = df[df.columns[0]]\n",
    "    df = df[(date>=first_date)&(date<=last_date)]\n",
    "    return df.reset_index()"
   ]
  },
  {
   "cell_type": "code",
   "execution_count": 5,
   "metadata": {},
   "outputs": [],
   "source": [
    "def create_df_returns(first_date, last_date, ticker_list, period):\n",
    "    nf = pd.DataFrame() #df vacio\n",
    "    df = csv_to_df(ticker_list[0]) #obtenemos el df apartir del csv\n",
    "    df = limit_df(first_date, last_date, df) #funcion que obtiene un nuevo df apartir de dos fechas y un df\n",
    "    #df = change_period(period, df)\n",
    "    nf['Date'] = df[df.columns[0]]\n",
    "    for ticker in ticker_list:\n",
    "      df = csv_to_df(ticker)\n",
    "      df = limit_df(first_date, last_date, df)\n",
    "      #df = change_period(period, df)\n",
    "      nf[ticker] = df[df.columns[6]]\n",
    "    return nf.reset_index()"
   ]
  },
  {
   "cell_type": "code",
   "execution_count": 6,
   "metadata": {},
   "outputs": [],
   "source": [
    "ticker_list = ls('./emisoras/All-Complete-Ticker-Data/')\n",
    "\n",
    "first_date = 20180425 #fecha de inicio\n",
    "last_date = 20180503 #fecha final\n",
    "period = 15 #periodo\n",
    "close_df = create_df_returns(first_date, # funcion que regresa un DF con los\n",
    "                             last_date, #  precios de cierre de las emisoras indicadas\n",
    "                             ticker_list, \n",
    "                             period)"
   ]
  },
  {
   "cell_type": "code",
   "execution_count": 7,
   "metadata": {},
   "outputs": [
    {
     "data": {
      "text/plain": [
       "VTR.csv     3.266225\n",
       "NI.csv      3.000934\n",
       "AAPL.csv    2.700170\n",
       "VNO.csv     2.614661\n",
       "SPG.csv     2.555400\n",
       "CTXS.csv    2.492464\n",
       "MRO.csv     2.442296\n",
       "QRVO.csv    2.338533\n",
       "PEG.csv     2.313109\n",
       "EXC.csv     2.310474\n",
       "dtype: float64"
      ]
     },
     "execution_count": 7,
     "metadata": {},
     "output_type": "execute_result"
    }
   ],
   "source": [
    "cl = close_df[close_df.columns[2:]]\n",
    "sharpe_ratio= df_sharpe_ratio(cl)\n",
    "final_sharpe_ratios = sharpe_ratio.sort_values( ascending=False)[0:10]\n",
    "final_sharpe_ratios"
   ]
  },
  {
   "cell_type": "code",
   "execution_count": null,
   "metadata": {},
   "outputs": [],
   "source": []
  }
 ],
 "metadata": {
  "kernelspec": {
   "display_name": "Python 3",
   "language": "python",
   "name": "python3"
  },
  "language_info": {
   "codemirror_mode": {
    "name": "ipython",
    "version": 3
   },
   "file_extension": ".py",
   "mimetype": "text/x-python",
   "name": "python",
   "nbconvert_exporter": "python",
   "pygments_lexer": "ipython3",
   "version": "3.6.3"
  }
 },
 "nbformat": 4,
 "nbformat_minor": 2
}
