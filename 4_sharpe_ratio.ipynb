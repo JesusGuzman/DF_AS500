{
 "cells": [
  {
   "cell_type": "code",
   "execution_count": 1,
   "metadata": {},
   "outputs": [],
   "source": [
    "import pandas as pd\n",
    "from os import listdir\n",
    "import numpy as np"
   ]
  },
  {
   "cell_type": "code",
   "execution_count": 25,
   "metadata": {},
   "outputs": [],
   "source": [
    "def df_sharpe_ratio(df):    \n",
    "    #daily_rf = 1.1**(1./252) - 1 # daily risk free rate\n",
    "    #K = 252**(0.5) # adjustment factor for daily samplying\n",
    "    #Xcopy = df.copy() #make a copy\n",
    "    #print Xcopy.head()\n",
    "    #calculate daily returns\n",
    "   \n",
    "    X = np.log(df/df.shift(1))\n",
    "    #############################\n",
    "    Hourly_AvgLnRtn = np.mean(X)\n",
    "    Hourly_Std = np.std(X)\n",
    "    SharpeRatio = (Hourly_AvgLnRtn/Hourly_Std)*np.sqrt(252*22)\n",
    "    ###############################\n",
    "    \n",
    "    #X_daily_rets =np.log(Xcopy/Xcopy.shift(1))\n",
    "    \n",
    "    #X_daily_rets = (Xcopy / Xcopy.shift(1)) #- 1\n",
    "    \n",
    "    #X_daily_rets = X_daily_rets[1:] # exclude the first row\n",
    "    #Calculate the sharpe ratio. I use this epislon value to avoid NaN results\n",
    "    \n",
    "    #epsi = 1e-16\n",
    "    #temp = X_daily_rets.copy() - daily_rf \n",
    "    #sharpe_ratio = temp.mean() / (X_daily_rets.std() + epsi)\n",
    "    #sharpe_ratio = K * sharpe_ratio #multiply by an adjustment factor to get the annualized version\n",
    "    threshold = 1\n",
    "    #sharpe_ratio[sharpe_ratio < threshold] = 0\n",
    "    #sharpe_ratio[sharpe_ratio >= threshold] = 1\n",
    "    one_sharpe_ratio = sharpe_ratio[SharpeRatio >= threshold]\n",
    "\n",
    "    return one_sharpe_ratio\n",
    "    #X_daily_rets\n",
    "    \n",
    "def change_period(new_time, df):\n",
    "    tam = new_time\n",
    "    i=0\n",
    "    stocks = []\n",
    "    first = 0\n",
    "    while i < (len(df)/tam):\n",
    "        nf = df[first:new_time]\n",
    "        stock = { 'date':   nf[nf.columns[1]][first],     'timestamp': nf[nf.columns[2]][first],\n",
    "                  'ticker': nf[nf.columns[3]][first],     'open': nf[nf.columns[4]][first], \n",
    "                  'high': nf[nf.columns[5]].max(),        'low': nf[nf.columns[6]].min(),\n",
    "                  'close': nf[nf.columns[7]][new_time-1], 'volume': nf[nf.columns[8]].sum(),\n",
    "                  'quantity': nf[nf.columns[9]].sum(),    'tradecount': nf[nf.columns[10]].sum() }\n",
    "        stocks.append(stock)\n",
    "    \n",
    "        first = first + tam\n",
    "        new_time = new_time + tam\n",
    "        i = i + 1\n",
    "    \n",
    "    if (len(df)%tam) != 0:\n",
    "        first = len(df)-(len(df)%tam)\n",
    "        new_time = len(df)\n",
    "        nf = df[first:new_time]\n",
    "        stock = { 'date':   nf[nf.columns[1]][first],     'timestamp': nf[nf.columns[2]][first],\n",
    "                  'ticker': nf[nf.columns[3]][first],     'open': nf[nf.columns[4]][first], \n",
    "                  'high': nf[nf.columns[5]].max(),        'low': nf[nf.columns[6]].min(),\n",
    "                  'close': nf[nf.columns[7]][new_time-1], 'volume': nf[nf.columns[8]].sum(),\n",
    "                  'quantity': nf[nf.columns[9]].sum(),    'tradecount': nf[nf.columns[10]].sum() }\n",
    "        stocks.append(stock)\n",
    "    df_stocks = pd.DataFrame(stocks,columns=['date',     'timestamp', 'ticker', 'open',\n",
    "                                             'high',     'low',       'close',  'volume', \n",
    "                                             'quantity', 'tradecount'])\n",
    "    #df_stocks.columns()\n",
    "    return df_stocks\n",
    "\n",
    "def csv_to_df(ticker):\n",
    "    file = pd.read_csv('./emisoras/2018-limpio-1/'+ticker)\n",
    "    df = pd.DataFrame(file)\n",
    "    return df\n",
    "\n",
    "def limit_df(first, last, df):\n",
    "    date = df[df.columns[0]]\n",
    "    df = df[(date>=first_date)&(date<=last_date)]\n",
    "    return df.reset_index()\n",
    "\n",
    "def create_df_returns(first_date, last_date, ticker_list, period):\n",
    "    nf = pd.DataFrame() #df vacio\n",
    "    df = csv_to_df(ticker_list[0]) #obtenemos el df apartir del csv\n",
    "    df = limit_df(first_date, last_date, df) #funcion que obtiene un nuevo df apartir de dos fechas y un df\n",
    "    df = change_period(period, df)\n",
    "    print df.head()\n",
    "    nf['Date'] = df[df.columns[0]]\n",
    "    for ticker in ticker_list:\n",
    "      df = csv_to_df(ticker)\n",
    "      df = limit_df(first_date, last_date, df)\n",
    "      df = change_period(period, df)\n",
    "      nf[ticker] = df[df.columns[6]]\n",
    "    return nf.reset_index()\n",
    "\n",
    "def create_df_returns_heder_list(first_date, last_date, header_list, period, ticker):\n",
    "    nf = pd.DataFrame() #df vacio\n",
    "    df = csv_to_df(ticker)\n",
    "    df = limit_df(first_date, last_date, df) #funcion que obtiene un nuevo df apartir de dos fechas y un df\n",
    "    df = change_period(period, df)\n",
    "    nf['Timestamp'] = df[df.columns[1]]\n",
    "    for ticker in ticker_list:\n",
    "      df = csv_to_df(ticker)\n",
    "      df = limit_df(first_date, last_date, df)\n",
    "      df = change_period(period, df)\n",
    "      nf[ticker] = df[df.columns[6]]\n",
    "    return nf.reset_index()\n",
    "\n",
    "#obtener el nombre de los archivos\n",
    "def ls(pwd): \n",
    "    return listdir(pwd)"
   ]
  },
  {
   "cell_type": "code",
   "execution_count": 3,
   "metadata": {},
   "outputs": [
    {
     "name": "stdout",
     "output_type": "stream",
     "text": [
      "       date timestamp ticker   open   high    low  close      volume  \\\n",
      "0  20180102  09:32:00    LNC  77.99  78.18  77.33  77.64  8312967.83   \n",
      "1  20180102  09:47:00    LNC  77.69  78.09  77.60  78.01  6168179.12   \n",
      "2  20180102  10:02:00    LNC  78.02  78.38  77.98  78.38  3880717.60   \n",
      "3  20180102  10:17:00    LNC  78.44  78.44  78.13  78.24  2680339.41   \n",
      "4  20180102  10:32:00    LNC  78.24  78.41  78.16  78.29  4610178.13   \n",
      "\n",
      "   quantity  tradecount  \n",
      "0    106723         567  \n",
      "1     79162         346  \n",
      "2     49609         322  \n",
      "3     34256         212  \n",
      "4     58912         227  \n"
     ]
    }
   ],
   "source": [
    "ticker_list = ls('./emisoras/2018-limpio-1/')\n",
    "\n",
    "first_date = 20180101 #fecha de inicio\n",
    "last_date = 20180503 #fecha final\n",
    "period = 15 #periodo\n",
    "close_df = create_df_returns(first_date, # funcion que regresa un DF con los\n",
    "                             last_date, #  precios de cierre de las emisoras indicadas\n",
    "                             ticker_list, \n",
    "                             period)    "
   ]
  },
  {
   "cell_type": "code",
   "execution_count": 27,
   "metadata": {},
   "outputs": [],
   "source": [
    "cl = close_df[close_df.columns[2:]] #tomamos solo los close\n",
    "sharpe_ratio= df_sharpe_ratio(cl) #con el dataframe de close calculamos los sharpe ratio"
   ]
  },
  {
   "cell_type": "code",
   "execution_count": 31,
   "metadata": {},
   "outputs": [],
   "source": [
    "#Obtener los 20 mejores sharpe ratios\n",
    "final_sharpe_ratios = sharpe_ratio.sort_values( ascending=False)[0:20]"
   ]
  },
  {
   "cell_type": "code",
   "execution_count": 34,
   "metadata": {},
   "outputs": [
    {
     "data": {
      "text/plain": [
       "FFIV.csv    2.623078\n",
       "ADBE.csv    2.371768\n",
       "AMZN.csv    2.222000\n",
       "IDXX.csv    2.220374\n",
       "SNI.csv     2.109504\n",
       "CSRA.csv    2.057086\n",
       "CMG.csv     1.990571\n",
       "PCLN.csv    1.968311\n",
       "INTU.csv    1.914443\n",
       "COP.csv     1.805229\n",
       "CTXS.csv    1.787966\n",
       "BSX.csv     1.778544\n",
       "ETFC.csv    1.744719\n",
       "APC.csv     1.726920\n",
       "CRM.csv     1.715136\n",
       "ISRG.csv    1.706841\n",
       "CTSH.csv    1.652892\n",
       "SIVB.csv    1.629150\n",
       "CBG.csv     1.582321\n",
       "FLIR.csv    1.567562\n",
       "dtype: float64"
      ]
     },
     "execution_count": 34,
     "metadata": {},
     "output_type": "execute_result"
    }
   ],
   "source": [
    "final_sharpe_ratios"
   ]
  },
  {
   "cell_type": "code",
   "execution_count": null,
   "metadata": {},
   "outputs": [],
   "source": []
  }
 ],
 "metadata": {
  "kernelspec": {
   "display_name": "Python 2",
   "language": "python",
   "name": "python2"
  },
  "language_info": {
   "codemirror_mode": {
    "name": "ipython",
    "version": 2
   },
   "file_extension": ".py",
   "mimetype": "text/x-python",
   "name": "python",
   "nbconvert_exporter": "python",
   "pygments_lexer": "ipython2",
   "version": "2.7.14"
  }
 },
 "nbformat": 4,
 "nbformat_minor": 2
}
