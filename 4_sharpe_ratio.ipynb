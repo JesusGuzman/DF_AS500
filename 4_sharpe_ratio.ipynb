{
 "cells": [
  {
   "cell_type": "code",
   "execution_count": 1,
   "metadata": {},
   "outputs": [],
   "source": [
    "import pandas as pd\n",
    "from os import listdir\n",
    "import numpy as np"
   ]
  },
  {
   "cell_type": "code",
   "execution_count": 2,
   "metadata": {},
   "outputs": [],
   "source": [
    "def an_sharpe_ratio(df, N, r):\n",
    "    # N = numero de barras por año , ejemplo daily N=252, r =1.75% tasa diaria de la reserva federal USD\n",
    "    X = np.log(df/df.shift(1))\n",
    "    X = X[1:]\n",
    "    #############################\n",
    "    excess_returns = X - (r/N)\n",
    "    AvgLnRtn = np.mean(excess_returns)\n",
    "    Std = np.std(excess_returns)\n",
    "    SharpeRatio = (AvgLnRtn/Std)*np.sqrt(N)\n",
    "    ###############################\n",
    "    threshold = 1\n",
    "    #sharpe_ratio[sharpe_ratio < threshold] = 0\n",
    "    #sharpe_ratio[sharpe_ratio >= threshold] = 1\n",
    "    one_sharpe_ratio =SharpeRatio[SharpeRatio >= threshold]\n",
    "\n",
    "    return one_sharpe_ratio\n",
    "    #X_daily_rets\n",
    "    \n",
    "def change_period(new_time, df):\n",
    "    tam = new_time\n",
    "    i=0\n",
    "    stocks = []\n",
    "    first = 0\n",
    "    while i < (len(df)//tam):\n",
    "        nf = df[first:new_time]\n",
    "        stock = { 'date':   nf[nf.columns[1]][first],     'timestamp': nf[nf.columns[2]][first],\n",
    "                  'ticker': nf[nf.columns[3]][first],     'open': nf[nf.columns[4]][first], \n",
    "                  'high': nf[nf.columns[5]].max(),        'low': nf[nf.columns[6]].min(),\n",
    "                  'close': nf[nf.columns[7]][new_time-1], 'volume': nf[nf.columns[8]].sum(),\n",
    "                  'quantity': nf[nf.columns[9]].sum(),    'tradecount': nf[nf.columns[10]].sum() }\n",
    "        stocks.append(stock)\n",
    "    \n",
    "        first = first + tam\n",
    "        new_time = new_time + tam\n",
    "        i = i + 1\n",
    "    \n",
    "    if (len(df)%tam) != 0:\n",
    "        first = len(df)-(len(df)%tam)\n",
    "        new_time = len(df)\n",
    "        nf = df[first:new_time]\n",
    "        stock = { 'date':   nf[nf.columns[1]][first],     'timestamp': nf[nf.columns[2]][first],\n",
    "                  'ticker': nf[nf.columns[3]][first],     'open': nf[nf.columns[4]][first], \n",
    "                  'high': nf[nf.columns[5]].max(),        'low': nf[nf.columns[6]].min(),\n",
    "                  'close': nf[nf.columns[7]][new_time-1], 'volume': nf[nf.columns[8]].sum(),\n",
    "                  'quantity': nf[nf.columns[9]].sum(),    'tradecount': nf[nf.columns[10]].sum() }\n",
    "        stocks.append(stock)\n",
    "    df_stocks = pd.DataFrame(stocks,columns=['date',     'timestamp', 'ticker', 'open',\n",
    "                                             'high',     'low',       'close',  'volume', \n",
    "                                             'quantity', 'tradecount'])\n",
    "    #df_stocks.columns()\n",
    "    return df_stocks\n",
    "\n",
    "def csv_to_df(ticker):\n",
    "    file = pd.read_csv('./emisoras/All-Clean-Ticker-Data/'+ticker)\n",
    "    df = pd.DataFrame(file)\n",
    "    return df\n",
    "\n",
    "def limit_df(first, last, df):\n",
    "    date = df[df.columns[0]]\n",
    "    df = df[(date>=first_date)&(date<=last_date)]\n",
    "    return df.reset_index()\n",
    "\n",
    "def create_df_returns(first_date, last_date, ticker_list, period):\n",
    "    nf = pd.DataFrame() #df vacio\n",
    "    df = csv_to_df(ticker_list[0]) #obtenemos el df apartir del csv\n",
    "    df = limit_df(first_date, last_date, df) #funcion que obtiene un nuevo df apartir de dos fechas y un df\n",
    "    df = change_period(period, df)\n",
    "    nf['Date'] = df[df.columns[0]]\n",
    "    for ticker in ticker_list:\n",
    "      df = csv_to_df(ticker)\n",
    "      df = limit_df(first_date, last_date, df)\n",
    "      df = change_period(period, df)\n",
    "      nf[ticker] = df[df.columns[6]]\n",
    "    return nf.reset_index()\n",
    "\n",
    "def create_df_returns_heder_list(first_date, last_date, header_list, period, ticker):\n",
    "    nf = pd.DataFrame() #df vacio\n",
    "    df = csv_to_df(ticker)\n",
    "    df = limit_df(first_date, last_date, df) #funcion que obtiene un nuevo df apartir de dos fechas y un df\n",
    "    df = change_period(period, df)\n",
    "    nf['Timestamp'] = df[df.columns[1]]\n",
    "    for ticker in ticker_list:\n",
    "      df = csv_to_df(ticker)\n",
    "      df = limit_df(first_date, last_date, df)\n",
    "      df = change_period(period, df)\n",
    "      nf[ticker] = df[df.columns[6]]\n",
    "    return nf.reset_index()\n",
    "\n",
    "#obtener el nombre de los archivos\n",
    "def ls(pwd): \n",
    "    return listdir(pwd)"
   ]
  },
  {
   "cell_type": "code",
   "execution_count": 3,
   "metadata": {},
   "outputs": [],
   "source": [
    "ticker_list = ls('./emisoras/All-Clean-Ticker-Data/')\n",
    "\n",
    "first_date = 20140101 #fecha de inicio\n",
    "last_date = 20140103 #fecha final\n",
    "period = 15 #periodo\n",
    "close_df = create_df_returns(first_date, # funcion que regresa un DF con los\n",
    "                             last_date, #  precios de cierre de las emisoras indicadas\n",
    "                             ticker_list, \n",
    "                             period)    "
   ]
  },
  {
   "cell_type": "code",
   "execution_count": 4,
   "metadata": {},
   "outputs": [
    {
     "ename": "AttributeError",
     "evalue": "'float' object has no attribute 'log'",
     "output_type": "error",
     "traceback": [
      "\u001b[0;31m---------------------------------------------------------------------------\u001b[0m",
      "\u001b[0;31mAttributeError\u001b[0m                            Traceback (most recent call last)",
      "\u001b[0;32m<ipython-input-4-9c7c8407e1b5>\u001b[0m in \u001b[0;36m<module>\u001b[0;34m()\u001b[0m\n\u001b[1;32m      1\u001b[0m \u001b[0mcl\u001b[0m \u001b[0;34m=\u001b[0m \u001b[0mclose_df\u001b[0m\u001b[0;34m[\u001b[0m\u001b[0mclose_df\u001b[0m\u001b[0;34m.\u001b[0m\u001b[0mcolumns\u001b[0m\u001b[0;34m[\u001b[0m\u001b[0;36m2\u001b[0m\u001b[0;34m:\u001b[0m\u001b[0;34m]\u001b[0m\u001b[0;34m]\u001b[0m \u001b[0;31m#tomamos solo los close\u001b[0m\u001b[0;34m\u001b[0m\u001b[0m\n\u001b[0;32m----> 2\u001b[0;31m \u001b[0msharpe_ratio\u001b[0m\u001b[0;34m=\u001b[0m \u001b[0mdf_sharpe_ratio\u001b[0m\u001b[0;34m(\u001b[0m\u001b[0mcl\u001b[0m\u001b[0;34m)\u001b[0m \u001b[0;31m#con el dataframe de close calculamos los sharpe ratio\u001b[0m\u001b[0;34m\u001b[0m\u001b[0m\n\u001b[0m",
      "\u001b[0;32m<ipython-input-2-f1d961120ee7>\u001b[0m in \u001b[0;36mdf_sharpe_ratio\u001b[0;34m(df)\u001b[0m\n\u001b[1;32m      6\u001b[0m     \u001b[0;31m#calculate daily returns\u001b[0m\u001b[0;34m\u001b[0m\u001b[0;34m\u001b[0m\u001b[0m\n\u001b[1;32m      7\u001b[0m \u001b[0;34m\u001b[0m\u001b[0m\n\u001b[0;32m----> 8\u001b[0;31m     \u001b[0mX\u001b[0m \u001b[0;34m=\u001b[0m \u001b[0mnp\u001b[0m\u001b[0;34m.\u001b[0m\u001b[0mlog\u001b[0m\u001b[0;34m(\u001b[0m\u001b[0mdf\u001b[0m\u001b[0;34m/\u001b[0m\u001b[0mdf\u001b[0m\u001b[0;34m.\u001b[0m\u001b[0mshift\u001b[0m\u001b[0;34m(\u001b[0m\u001b[0;36m1\u001b[0m\u001b[0;34m)\u001b[0m\u001b[0;34m)\u001b[0m\u001b[0;34m\u001b[0m\u001b[0m\n\u001b[0m\u001b[1;32m      9\u001b[0m     \u001b[0mX\u001b[0m \u001b[0;34m=\u001b[0m \u001b[0mX\u001b[0m\u001b[0;34m[\u001b[0m\u001b[0;36m1\u001b[0m\u001b[0;34m:\u001b[0m\u001b[0;34m]\u001b[0m\u001b[0;34m\u001b[0m\u001b[0m\n\u001b[1;32m     10\u001b[0m     \u001b[0;31m#############################\u001b[0m\u001b[0;34m\u001b[0m\u001b[0;34m\u001b[0m\u001b[0m\n",
      "\u001b[0;31mAttributeError\u001b[0m: 'float' object has no attribute 'log'"
     ]
    }
   ],
   "source": [
    "cl = close_df[close_df.columns[2:]] #tomamos solo los close\n",
    "sharpe_ratio= df_sharpe_ratio(cl) #con el dataframe de close calculamos los sharpe ratio"
   ]
  },
  {
   "cell_type": "code",
   "execution_count": null,
   "metadata": {},
   "outputs": [],
   "source": [
    "#Obtener los 20 mejores sharpe ratios\n",
    "final_sharpe_ratios = sharpe_ratio.sort_values( ascending=False)[0:20]"
   ]
  },
  {
   "cell_type": "code",
   "execution_count": null,
   "metadata": {},
   "outputs": [],
   "source": [
    "final_sharpe_ratios"
   ]
  },
  {
   "cell_type": "code",
   "execution_count": null,
   "metadata": {},
   "outputs": [],
   "source": []
  }
 ],
 "metadata": {
  "kernelspec": {
   "display_name": "Python 3",
   "language": "python",
   "name": "python3"
  },
  "language_info": {
   "codemirror_mode": {
    "name": "ipython",
    "version": 3
   },
   "file_extension": ".py",
   "mimetype": "text/x-python",
   "name": "python",
   "nbconvert_exporter": "python",
   "pygments_lexer": "ipython3",
   "version": "3.6.3"
  }
 },
 "nbformat": 4,
 "nbformat_minor": 2
}
